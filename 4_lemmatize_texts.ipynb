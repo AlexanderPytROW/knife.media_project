{
 "cells": [
  {
   "cell_type": "code",
   "execution_count": 1,
   "metadata": {},
   "outputs": [],
   "source": [
    "import pandas as pd\n",
    "from pymorphy2 import MorphAnalyzer\n",
    "from pymystem3 import Mystem\n",
    "from nltk.corpus import stopwords"
   ]
  },
  {
   "cell_type": "code",
   "execution_count": 2,
   "metadata": {},
   "outputs": [],
   "source": [
    "stopwords_list = stopwords.words('russian')\n",
    "listToAdd = ['который', 'весь', 'это', 'ваш', 'такой', 'свой', 'наш', 'самый', 'никто', 'однако', 'наверное', 'вскоре', 'сей']\n",
    "stopwords_list.extend(listToAdd)\n",
    "stopwords = set(stopwords_list)"
   ]
  },
  {
   "cell_type": "code",
   "execution_count": 3,
   "metadata": {},
   "outputs": [],
   "source": [
    "morph_1 = Mystem()\n",
    "def lemmatize_Mystem(text):\n",
    "    tokens = morph_1.lemmatize(text)\n",
    "    tokens = [token for token in tokens if token not in stopwords]\n",
    "    return ''.join(tokens).strip()"
   ]
  },
  {
   "cell_type": "code",
   "execution_count": 13,
   "metadata": {},
   "outputs": [],
   "source": [
    "df = pd.read_csv('texts_for_lemm.csv')"
   ]
  },
  {
   "cell_type": "code",
   "execution_count": 14,
   "metadata": {},
   "outputs": [
    {
     "data": {
      "text/html": [
       "<div>\n",
       "<style scoped>\n",
       "    .dataframe tbody tr th:only-of-type {\n",
       "        vertical-align: middle;\n",
       "    }\n",
       "\n",
       "    .dataframe tbody tr th {\n",
       "        vertical-align: top;\n",
       "    }\n",
       "\n",
       "    .dataframe thead th {\n",
       "        text-align: right;\n",
       "    }\n",
       "</style>\n",
       "<table border=\"1\" class=\"dataframe\">\n",
       "  <thead>\n",
       "    <tr style=\"text-align: right;\">\n",
       "      <th></th>\n",
       "      <th>id</th>\n",
       "      <th>url</th>\n",
       "      <th>text</th>\n",
       "    </tr>\n",
       "  </thead>\n",
       "  <tbody>\n",
       "    <tr>\n",
       "      <td>0</td>\n",
       "      <td>318551</td>\n",
       "      <td>https://knife.media/ectogenesis/</td>\n",
       "      <td>репродуктивная медицина переживает небывалый п...</td>\n",
       "    </tr>\n",
       "    <tr>\n",
       "      <td>1</td>\n",
       "      <td>318534</td>\n",
       "      <td>https://knife.media/psykho-faq/</td>\n",
       "      <td>психоаналитическая терапия одна из разновиднос...</td>\n",
       "    </tr>\n",
       "    <tr>\n",
       "      <td>2</td>\n",
       "      <td>318470</td>\n",
       "      <td>https://knife.media/club/bulgarian-halloween/</td>\n",
       "      <td>NaN</td>\n",
       "    </tr>\n",
       "    <tr>\n",
       "      <td>3</td>\n",
       "      <td>318437</td>\n",
       "      <td>https://knife.media/pole-chudes/</td>\n",
       "      <td>в октябре года советские телезрители увидели п...</td>\n",
       "    </tr>\n",
       "    <tr>\n",
       "      <td>4</td>\n",
       "      <td>318387</td>\n",
       "      <td>https://knife.media/stories-of-gravediggers/</td>\n",
       "      <td>во время пандемии жизнь простых землекопов с к...</td>\n",
       "    </tr>\n",
       "    <tr>\n",
       "      <td>...</td>\n",
       "      <td>...</td>\n",
       "      <td>...</td>\n",
       "      <td>...</td>\n",
       "    </tr>\n",
       "    <tr>\n",
       "      <td>5844</td>\n",
       "      <td>102530</td>\n",
       "      <td>http://knife.media/minimal/</td>\n",
       "      <td>какой может быть революционно новая жизнь в то...</td>\n",
       "    </tr>\n",
       "    <tr>\n",
       "      <td>5845</td>\n",
       "      <td>102503</td>\n",
       "      <td>http://knife.media/bear-parade/</td>\n",
       "      <td>в деревне моинешти что на востоке румынии цере...</td>\n",
       "    </tr>\n",
       "    <tr>\n",
       "      <td>5846</td>\n",
       "      <td>102409</td>\n",
       "      <td>http://knife.media/sins/</td>\n",
       "      <td>после того как последний динозавр испустил дух...</td>\n",
       "    </tr>\n",
       "    <tr>\n",
       "      <td>5847</td>\n",
       "      <td>102281</td>\n",
       "      <td>http://knife.media/bear-parade/</td>\n",
       "      <td>в деревне моинешти что на востоке румынии цере...</td>\n",
       "    </tr>\n",
       "    <tr>\n",
       "      <td>5848</td>\n",
       "      <td>102207</td>\n",
       "      <td>http://knife.media/show-off/</td>\n",
       "      <td>чем отличаются мужские и женские понты почему ...</td>\n",
       "    </tr>\n",
       "  </tbody>\n",
       "</table>\n",
       "<p>5849 rows × 3 columns</p>\n",
       "</div>"
      ],
      "text/plain": [
       "          id                                            url  \\\n",
       "0     318551               https://knife.media/ectogenesis/   \n",
       "1     318534                https://knife.media/psykho-faq/   \n",
       "2     318470  https://knife.media/club/bulgarian-halloween/   \n",
       "3     318437               https://knife.media/pole-chudes/   \n",
       "4     318387   https://knife.media/stories-of-gravediggers/   \n",
       "...      ...                                            ...   \n",
       "5844  102530                    http://knife.media/minimal/   \n",
       "5845  102503                http://knife.media/bear-parade/   \n",
       "5846  102409                       http://knife.media/sins/   \n",
       "5847  102281                http://knife.media/bear-parade/   \n",
       "5848  102207                   http://knife.media/show-off/   \n",
       "\n",
       "                                                   text  \n",
       "0     репродуктивная медицина переживает небывалый п...  \n",
       "1     психоаналитическая терапия одна из разновиднос...  \n",
       "2                                                   NaN  \n",
       "3     в октябре года советские телезрители увидели п...  \n",
       "4     во время пандемии жизнь простых землекопов с к...  \n",
       "...                                                 ...  \n",
       "5844  какой может быть революционно новая жизнь в то...  \n",
       "5845  в деревне моинешти что на востоке румынии цере...  \n",
       "5846  после того как последний динозавр испустил дух...  \n",
       "5847  в деревне моинешти что на востоке румынии цере...  \n",
       "5848  чем отличаются мужские и женские понты почему ...  \n",
       "\n",
       "[5849 rows x 3 columns]"
      ]
     },
     "execution_count": 14,
     "metadata": {},
     "output_type": "execute_result"
    }
   ],
   "source": [
    "df"
   ]
  },
  {
   "cell_type": "code",
   "execution_count": 15,
   "metadata": {},
   "outputs": [
    {
     "data": {
      "text/plain": [
       "id        0\n",
       "url       0\n",
       "text    136\n",
       "dtype: int64"
      ]
     },
     "execution_count": 15,
     "metadata": {},
     "output_type": "execute_result"
    }
   ],
   "source": [
    "df.isna().sum()"
   ]
  },
  {
   "cell_type": "code",
   "execution_count": 16,
   "metadata": {},
   "outputs": [],
   "source": [
    "df.dropna(inplace=True)"
   ]
  },
  {
   "cell_type": "code",
   "execution_count": 31,
   "metadata": {},
   "outputs": [
    {
     "data": {
      "text/html": [
       "<div>\n",
       "<style scoped>\n",
       "    .dataframe tbody tr th:only-of-type {\n",
       "        vertical-align: middle;\n",
       "    }\n",
       "\n",
       "    .dataframe tbody tr th {\n",
       "        vertical-align: top;\n",
       "    }\n",
       "\n",
       "    .dataframe thead th {\n",
       "        text-align: right;\n",
       "    }\n",
       "</style>\n",
       "<table border=\"1\" class=\"dataframe\">\n",
       "  <thead>\n",
       "    <tr style=\"text-align: right;\">\n",
       "      <th></th>\n",
       "      <th>id</th>\n",
       "      <th>url</th>\n",
       "      <th>text</th>\n",
       "      <th>len_text</th>\n",
       "    </tr>\n",
       "  </thead>\n",
       "  <tbody>\n",
       "    <tr>\n",
       "      <td>0</td>\n",
       "      <td>318551</td>\n",
       "      <td>https://knife.media/ectogenesis/</td>\n",
       "      <td>репродуктивная медицина переживает небывалый п...</td>\n",
       "      <td>9498</td>\n",
       "    </tr>\n",
       "    <tr>\n",
       "      <td>1</td>\n",
       "      <td>318534</td>\n",
       "      <td>https://knife.media/psykho-faq/</td>\n",
       "      <td>психоаналитическая терапия одна из разновиднос...</td>\n",
       "      <td>12745</td>\n",
       "    </tr>\n",
       "    <tr>\n",
       "      <td>3</td>\n",
       "      <td>318437</td>\n",
       "      <td>https://knife.media/pole-chudes/</td>\n",
       "      <td>в октябре года советские телезрители увидели п...</td>\n",
       "      <td>10399</td>\n",
       "    </tr>\n",
       "    <tr>\n",
       "      <td>4</td>\n",
       "      <td>318387</td>\n",
       "      <td>https://knife.media/stories-of-gravediggers/</td>\n",
       "      <td>во время пандемии жизнь простых землекопов с к...</td>\n",
       "      <td>17340</td>\n",
       "    </tr>\n",
       "    <tr>\n",
       "      <td>5</td>\n",
       "      <td>318359</td>\n",
       "      <td>https://knife.media/tochka-doctors/</td>\n",
       "      <td>благотворительный фонд новый дом по решению ег...</td>\n",
       "      <td>1303</td>\n",
       "    </tr>\n",
       "    <tr>\n",
       "      <td>...</td>\n",
       "      <td>...</td>\n",
       "      <td>...</td>\n",
       "      <td>...</td>\n",
       "      <td>...</td>\n",
       "    </tr>\n",
       "    <tr>\n",
       "      <td>5844</td>\n",
       "      <td>102530</td>\n",
       "      <td>http://knife.media/minimal/</td>\n",
       "      <td>какой может быть революционно новая жизнь в то...</td>\n",
       "      <td>7786</td>\n",
       "    </tr>\n",
       "    <tr>\n",
       "      <td>5845</td>\n",
       "      <td>102503</td>\n",
       "      <td>http://knife.media/bear-parade/</td>\n",
       "      <td>в деревне моинешти что на востоке румынии цере...</td>\n",
       "      <td>907</td>\n",
       "    </tr>\n",
       "    <tr>\n",
       "      <td>5846</td>\n",
       "      <td>102409</td>\n",
       "      <td>http://knife.media/sins/</td>\n",
       "      <td>после того как последний динозавр испустил дух...</td>\n",
       "      <td>8173</td>\n",
       "    </tr>\n",
       "    <tr>\n",
       "      <td>5847</td>\n",
       "      <td>102281</td>\n",
       "      <td>http://knife.media/bear-parade/</td>\n",
       "      <td>в деревне моинешти что на востоке румынии цере...</td>\n",
       "      <td>907</td>\n",
       "    </tr>\n",
       "    <tr>\n",
       "      <td>5848</td>\n",
       "      <td>102207</td>\n",
       "      <td>http://knife.media/show-off/</td>\n",
       "      <td>чем отличаются мужские и женские понты почему ...</td>\n",
       "      <td>11946</td>\n",
       "    </tr>\n",
       "  </tbody>\n",
       "</table>\n",
       "<p>5713 rows × 4 columns</p>\n",
       "</div>"
      ],
      "text/plain": [
       "          id                                           url  \\\n",
       "0     318551              https://knife.media/ectogenesis/   \n",
       "1     318534               https://knife.media/psykho-faq/   \n",
       "3     318437              https://knife.media/pole-chudes/   \n",
       "4     318387  https://knife.media/stories-of-gravediggers/   \n",
       "5     318359           https://knife.media/tochka-doctors/   \n",
       "...      ...                                           ...   \n",
       "5844  102530                   http://knife.media/minimal/   \n",
       "5845  102503               http://knife.media/bear-parade/   \n",
       "5846  102409                      http://knife.media/sins/   \n",
       "5847  102281               http://knife.media/bear-parade/   \n",
       "5848  102207                  http://knife.media/show-off/   \n",
       "\n",
       "                                                   text  len_text  \n",
       "0     репродуктивная медицина переживает небывалый п...      9498  \n",
       "1     психоаналитическая терапия одна из разновиднос...     12745  \n",
       "3     в октябре года советские телезрители увидели п...     10399  \n",
       "4     во время пандемии жизнь простых землекопов с к...     17340  \n",
       "5     благотворительный фонд новый дом по решению ег...      1303  \n",
       "...                                                 ...       ...  \n",
       "5844  какой может быть революционно новая жизнь в то...      7786  \n",
       "5845  в деревне моинешти что на востоке румынии цере...       907  \n",
       "5846  после того как последний динозавр испустил дух...      8173  \n",
       "5847  в деревне моинешти что на востоке румынии цере...       907  \n",
       "5848  чем отличаются мужские и женские понты почему ...     11946  \n",
       "\n",
       "[5713 rows x 4 columns]"
      ]
     },
     "execution_count": 31,
     "metadata": {},
     "output_type": "execute_result"
    }
   ],
   "source": [
    "df"
   ]
  },
  {
   "cell_type": "code",
   "execution_count": 32,
   "metadata": {},
   "outputs": [],
   "source": [
    "df['text_lemm'] = df.text.apply(lemmatize_Mystem)"
   ]
  },
  {
   "cell_type": "code",
   "execution_count": 9,
   "metadata": {},
   "outputs": [],
   "source": [
    "df['len_text_lemm'] = df.text_lemm.apply(lambda x: len(x))"
   ]
  },
  {
   "cell_type": "code",
   "execution_count": 12,
   "metadata": {},
   "outputs": [],
   "source": [
    "df.to_csv('texts_for_fit.csv', index=False)"
   ]
  },
  {
   "cell_type": "code",
   "execution_count": 4,
   "metadata": {},
   "outputs": [],
   "source": [
    "df = pd.read_csv('texts_for_fit.csv')"
   ]
  },
  {
   "cell_type": "code",
   "execution_count": 11,
   "metadata": {},
   "outputs": [
    {
     "data": {
      "text/html": [
       "<div>\n",
       "<style scoped>\n",
       "    .dataframe tbody tr th:only-of-type {\n",
       "        vertical-align: middle;\n",
       "    }\n",
       "\n",
       "    .dataframe tbody tr th {\n",
       "        vertical-align: top;\n",
       "    }\n",
       "\n",
       "    .dataframe thead th {\n",
       "        text-align: right;\n",
       "    }\n",
       "</style>\n",
       "<table border=\"1\" class=\"dataframe\">\n",
       "  <thead>\n",
       "    <tr style=\"text-align: right;\">\n",
       "      <th></th>\n",
       "      <th>id</th>\n",
       "      <th>url</th>\n",
       "      <th>text</th>\n",
       "      <th>len_text</th>\n",
       "      <th>text_lemm</th>\n",
       "      <th>len_text_lemm</th>\n",
       "    </tr>\n",
       "  </thead>\n",
       "  <tbody>\n",
       "    <tr>\n",
       "      <td>0</td>\n",
       "      <td>318551</td>\n",
       "      <td>https://knife.media/ectogenesis/</td>\n",
       "      <td>репродуктивная медицина переживает небывалый п...</td>\n",
       "      <td>9498</td>\n",
       "      <td>репродуктивный медицина переживать небывалый п...</td>\n",
       "      <td>8187</td>\n",
       "    </tr>\n",
       "    <tr>\n",
       "      <td>1</td>\n",
       "      <td>318534</td>\n",
       "      <td>https://knife.media/psykho-faq/</td>\n",
       "      <td>психоаналитическая терапия одна из разновиднос...</td>\n",
       "      <td>12745</td>\n",
       "      <td>психоаналитический терапия   разновидность пси...</td>\n",
       "      <td>10621</td>\n",
       "    </tr>\n",
       "    <tr>\n",
       "      <td>2</td>\n",
       "      <td>318437</td>\n",
       "      <td>https://knife.media/pole-chudes/</td>\n",
       "      <td>в октябре года советские телезрители увидели п...</td>\n",
       "      <td>10399</td>\n",
       "      <td>октябрь год советский телезритель увидеть перв...</td>\n",
       "      <td>9060</td>\n",
       "    </tr>\n",
       "    <tr>\n",
       "      <td>3</td>\n",
       "      <td>318387</td>\n",
       "      <td>https://knife.media/stories-of-gravediggers/</td>\n",
       "      <td>во время пандемии жизнь простых землекопов с к...</td>\n",
       "      <td>17340</td>\n",
       "      <td>время пандемия жизнь простой землекоп  кладбищ...</td>\n",
       "      <td>15090</td>\n",
       "    </tr>\n",
       "    <tr>\n",
       "      <td>4</td>\n",
       "      <td>318359</td>\n",
       "      <td>https://knife.media/tochka-doctors/</td>\n",
       "      <td>благотворительный фонд новый дом по решению ег...</td>\n",
       "      <td>1303</td>\n",
       "      <td>благотворительный фонд новый дом  решение  учр...</td>\n",
       "      <td>1139</td>\n",
       "    </tr>\n",
       "  </tbody>\n",
       "</table>\n",
       "</div>"
      ],
      "text/plain": [
       "       id                                           url  \\\n",
       "0  318551              https://knife.media/ectogenesis/   \n",
       "1  318534               https://knife.media/psykho-faq/   \n",
       "2  318437              https://knife.media/pole-chudes/   \n",
       "3  318387  https://knife.media/stories-of-gravediggers/   \n",
       "4  318359           https://knife.media/tochka-doctors/   \n",
       "\n",
       "                                                text  len_text  \\\n",
       "0  репродуктивная медицина переживает небывалый п...      9498   \n",
       "1  психоаналитическая терапия одна из разновиднос...     12745   \n",
       "2  в октябре года советские телезрители увидели п...     10399   \n",
       "3  во время пандемии жизнь простых землекопов с к...     17340   \n",
       "4  благотворительный фонд новый дом по решению ег...      1303   \n",
       "\n",
       "                                           text_lemm  len_text_lemm  \n",
       "0  репродуктивный медицина переживать небывалый п...           8187  \n",
       "1  психоаналитический терапия   разновидность пси...          10621  \n",
       "2  октябрь год советский телезритель увидеть перв...           9060  \n",
       "3  время пандемия жизнь простой землекоп  кладбищ...          15090  \n",
       "4  благотворительный фонд новый дом  решение  учр...           1139  "
      ]
     },
     "execution_count": 11,
     "metadata": {},
     "output_type": "execute_result"
    }
   ],
   "source": [
    "df.head()"
   ]
  },
  {
   "cell_type": "code",
   "execution_count": null,
   "metadata": {},
   "outputs": [],
   "source": []
  },
  {
   "cell_type": "code",
   "execution_count": 27,
   "metadata": {},
   "outputs": [
    {
     "data": {
      "text/plain": [
       "560.0"
      ]
     },
     "execution_count": 27,
     "metadata": {},
     "output_type": "execute_result"
    }
   ],
   "source": [
    "df.len_text.quantile(0.05)"
   ]
  },
  {
   "cell_type": "code",
   "execution_count": null,
   "metadata": {},
   "outputs": [],
   "source": []
  },
  {
   "cell_type": "code",
   "execution_count": 7,
   "metadata": {},
   "outputs": [
    {
     "ename": "TypeError",
     "evalue": "lemmatize_Mystem() missing 1 required positional argument: 'text'",
     "output_type": "error",
     "traceback": [
      "\u001b[1;31m---------------------------------------------------------------------------\u001b[0m",
      "\u001b[1;31mTypeError\u001b[0m                                 Traceback (most recent call last)",
      "\u001b[1;32m<ipython-input-7-841c3ec6c58b>\u001b[0m in \u001b[0;36m<module>\u001b[1;34m\u001b[0m\n\u001b[1;32m----> 1\u001b[1;33m \u001b[0mlemmatize_Mystem\u001b[0m\u001b[1;33m(\u001b[0m\u001b[1;33m)\u001b[0m\u001b[1;33m\u001b[0m\u001b[1;33m\u001b[0m\u001b[0m\n\u001b[0m",
      "\u001b[1;31mTypeError\u001b[0m: lemmatize_Mystem() missing 1 required positional argument: 'text'"
     ]
    }
   ],
   "source": [
    "lemmatize_Mystem()"
   ]
  },
  {
   "cell_type": "code",
   "execution_count": 18,
   "metadata": {},
   "outputs": [],
   "source": [
    "text = 'Репродуктивная медицина переживает небывалый подъем: сперва процедура ЭКО избавила нас от необходимости зачинать детей во время секса, затем им стало необязательно появляться в теле матери. А что, если нам вообще не нужно человеческое тело, чтобы вырастить ребенка? Что, если можно иметь детей, но беременеть никому не придется? На эти вопросы пытается ответить журналистка Дженни Климан в своей книге «Секс без людей, мясо без животных», которая вышла в издательстве Individuum. Что такое искусственная матка, появятся ли лаборатории, где зародыши будут расти в пакетах, и как новые технологии изменят смысл материнства — читайте дальше.'"
   ]
  },
  {
   "cell_type": "code",
   "execution_count": 30,
   "metadata": {},
   "outputs": [
    {
     "data": {
      "text/plain": [
       "'репродуктивный медицина переживать небывалый подъем: сперва процедура эко избавлять   необходимость зачинать ребенок  время секс, затем  становиться необязательно появляться  тело мать.  ,   вообще  нужный человеческий тело,  выращивать ребенок? ,   иметь ребенок,  беременеть   приходиться?   вопрос пытаться отвечать журналистка дженни климан   книга «секс  человек, мясо  животное»,  выходить  издательство Individuum.   искусственный матка, появляться  лаборатория,  зародыш  расти  пакет,   новый технология изменять смысл материнство — читать далеко.'"
      ]
     },
     "execution_count": 30,
     "metadata": {},
     "output_type": "execute_result"
    }
   ],
   "source": [
    "lemmatize_Mystem(text)"
   ]
  },
  {
   "cell_type": "code",
   "execution_count": 20,
   "metadata": {},
   "outputs": [
    {
     "data": {
      "text/plain": [
       "638"
      ]
     },
     "execution_count": 20,
     "metadata": {},
     "output_type": "execute_result"
    }
   ],
   "source": [
    "len(text)"
   ]
  },
  {
   "cell_type": "code",
   "execution_count": null,
   "metadata": {},
   "outputs": [],
   "source": []
  }
 ],
 "metadata": {
  "kernelspec": {
   "display_name": "Python 3",
   "language": "python",
   "name": "python3"
  },
  "language_info": {
   "codemirror_mode": {
    "name": "ipython",
    "version": 3
   },
   "file_extension": ".py",
   "mimetype": "text/x-python",
   "name": "python",
   "nbconvert_exporter": "python",
   "pygments_lexer": "ipython3",
   "version": "3.7.4"
  }
 },
 "nbformat": 4,
 "nbformat_minor": 2
}
