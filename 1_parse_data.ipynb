{
 "cells": [
  {
   "cell_type": "code",
   "execution_count": 1,
   "metadata": {},
   "outputs": [],
   "source": [
    "import pandas as pd\n",
    "import numpy as np\n",
    "# для парсинга\n",
    "import requests\n",
    "from urllib.request import urlopen\n",
    "from bs4 import BeautifulSoup\n",
    "import re"
   ]
  },
  {
   "cell_type": "code",
   "execution_count": 2,
   "metadata": {},
   "outputs": [],
   "source": [
    "def wall_parser():\n",
    "    token = '0da629350da629350da62935b60dd2bd8200da60da629355233580cc925888190d01861'\n",
    "    api = 'https://api.vk.com/method/wall.get'\n",
    "    version = 5.92\n",
    "    domain = 'knife.media'\n",
    "    offset = 0\n",
    "    count = 100\n",
    "    all_posts = []\n",
    "\n",
    "    while offset < 9000:\n",
    "        response = requests.get(api,\n",
    "                                params = {'access_token': token,\n",
    "                                          'v': version,\n",
    "                                          'domain': domain,\n",
    "                                          'count': count,\n",
    "                                          'offset': offset}\n",
    "                               )\n",
    "        data = response.json()['response']['items']\n",
    "        offset += count\n",
    "        all_posts.extend(data)\n",
    "    return all_posts"
   ]
  },
  {
   "cell_type": "code",
   "execution_count": 3,
   "metadata": {},
   "outputs": [],
   "source": [
    "def filter_inf():\n",
    "    filter_data_list = []\n",
    "    all_posts = wall_parser()\n",
    "    for post in all_posts:\n",
    "        filter_data_list.append([post['id'],\n",
    "                                 post['date'],\n",
    "                                 post['likes']['count'],\n",
    "                                 post['comments']['count'],\n",
    "                                 post['reposts']['count'],\n",
    "                                 post['views']['count'],\n",
    "                                 post['text']])\n",
    "    return filter_data_list"
   ]
  },
  {
   "cell_type": "code",
   "execution_count": 4,
   "metadata": {},
   "outputs": [],
   "source": [
    "# изменить шаблон под более общий !!!!!!!!!!\n",
    "def try_url(x):\n",
    "    pattern = r'(https://kn.+)|(http://knf.+)'\n",
    "    try:\n",
    "        return re.search(pattern, x)[0]\n",
    "    except:\n",
    "        return ('false')\n",
    "# def try_url(x):\n",
    "#     pattern = r'.*(http.+)'\n",
    "#     try:\n",
    "#         if re.findall(pattern, x)[0]:\n",
    "#             return re.findall(pattern, x)[0]\n",
    "#     except:\n",
    "#         return ('false')"
   ]
  },
  {
   "cell_type": "code",
   "execution_count": 5,
   "metadata": {},
   "outputs": [],
   "source": [
    "# функция парсинга текста\n",
    "def text_parser(url):\n",
    "    try:\n",
    "        html = urlopen(url).read().decode('utf-8')\n",
    "        # возможно, сделать шаблон более общим\n",
    "        pattern_2 = r'.+\"text\":\"(.+)\"}</script>'\n",
    "        text = re.findall(pattern_2, html)[0].replace(u'\\xa0', ' ')\n",
    "    except:\n",
    "        text = ''\n",
    "    return text"
   ]
  },
  {
   "cell_type": "code",
   "execution_count": 7,
   "metadata": {},
   "outputs": [],
   "source": [
    "def tags(link):\n",
    "    tags_page = []\n",
    "    try:\n",
    "        html = urlopen(link).read().decode('utf-8')\n",
    "        soup = BeautifulSoup(html,'html.parser')\n",
    "        tags = soup.find_all(rel=\"tag\")\n",
    "        for tag in tags:\n",
    "            tags_page.append(tag.text)\n",
    "    except:\n",
    "        tags_page = None\n",
    "    return tags_page"
   ]
  },
  {
   "cell_type": "code",
   "execution_count": 8,
   "metadata": {},
   "outputs": [],
   "source": [
    "def cleaner_text(link):\n",
    "    text = text_parser(link)\n",
    "    text = re.sub(r'[._^%$#!~@,-«»]+', ' ', text)\n",
    "    text = re.sub('[^а-яА-Я ]', '', text)\n",
    "    text = re.sub(r'\\s+', ' ', text)\n",
    "    return text"
   ]
  },
  {
   "cell_type": "code",
   "execution_count": 16,
   "metadata": {
    "scrolled": true
   },
   "outputs": [
    {
     "data": {
      "text/plain": [
       "'То что Роман Михайлов один из самых интересных современных русских писателей можно считать уже практически общепризнанным и его новая книга Антиравинагар вышедшая на днях в издательстве лишнее тому подтверждение Сам Михайлов на сегодняшний день считает это произведение своим пока шла подготовка издания он успел поставить по нему в БДТ одноименный радиоспектакль а также обычный точнее необычный спектакль Несолнечный город Сказать о чем эта книга довольно непросто Роман настолько далек от всех литературных традиций настоящего и прошлого что ему пришлось придумать собственную литературу работающую по правилам которые хорошо понимает только он сам что впрочем нисколько не мешает его все более многочисленным читателям Согласно определению автора Антиравинагар это трактат о памяти и ритуалах Он состоит из зыбких сложным образом перекликающихся друг с другом историй что не мешает им оставаться в первую очередь историями которые интересно читать В числе действующих лиц колдуны бандиты и птицы а само действие происходит в некоем призрачном мире готовом каждую секунду рассыпаться на части и собраться заново Смело рекомендуем эту книгу всем а особенно тем кто устал от однообразия современной словесности и не боится что чего то не поймет Не понимать это нормально Сейчас книгу можно приобрести за рублей в Фаланстере или заказать на сайте питерского магазина Подписные издания Роман Михайлов на Ноже Обсуждение боя Конора против Хабиба с Йоэлем Регевым Интервью гадание с Романом Михайловым Обсуждение фильма Маски который снимает Роман Михайлов Магия склейки изнанки памяти краткий путеводитель по книгам Романа Михайлова'"
      ]
     },
     "execution_count": 16,
     "metadata": {},
     "output_type": "execute_result"
    }
   ],
   "source": [
    "cleaner_text('https://knife.media/antiravinagar-book/')"
   ]
  },
  {
   "cell_type": "code",
   "execution_count": null,
   "metadata": {},
   "outputs": [],
   "source": []
  },
  {
   "cell_type": "code",
   "execution_count": null,
   "metadata": {},
   "outputs": [],
   "source": [
    "columns = ['id', 'time', 'likes', 'comments', 'reposts', 'views', 'text']\n",
    "df = pd.DataFrame(filter_inf(), columns = columns)"
   ]
  },
  {
   "cell_type": "code",
   "execution_count": 9,
   "metadata": {},
   "outputs": [],
   "source": [
    "df['ctr'] = (df.likes / df.views * 100).round(2)"
   ]
  },
  {
   "cell_type": "code",
   "execution_count": null,
   "metadata": {},
   "outputs": [],
   "source": [
    "df['url'] = df.text.apply(try_url)"
   ]
  },
  {
   "cell_type": "code",
   "execution_count": null,
   "metadata": {},
   "outputs": [],
   "source": [
    "df['year'] = pd.to_datetime(df.time, unit='s').dt.to_period('Y')\n",
    "df['month'] = pd.to_datetime(df.time, unit='s').dt.to_period('M')\n",
    "df['day'] = pd.to_datetime(df.time, unit='s').dt.to_period('D')"
   ]
  },
  {
   "cell_type": "code",
   "execution_count": null,
   "metadata": {},
   "outputs": [],
   "source": [
    "df.head()"
   ]
  },
  {
   "cell_type": "code",
   "execution_count": null,
   "metadata": {},
   "outputs": [],
   "source": [
    "filtered_df = df.query(\"url != 'false' and day >= '2018-01-01'\")"
   ]
  },
  {
   "cell_type": "code",
   "execution_count": null,
   "metadata": {},
   "outputs": [],
   "source": [
    "filtered_df.url.count()"
   ]
  },
  {
   "cell_type": "code",
   "execution_count": null,
   "metadata": {},
   "outputs": [],
   "source": []
  },
  {
   "cell_type": "code",
   "execution_count": null,
   "metadata": {},
   "outputs": [],
   "source": []
  },
  {
   "cell_type": "code",
   "execution_count": 16,
   "metadata": {},
   "outputs": [
    {
     "name": "stderr",
     "output_type": "stream",
     "text": [
      "/opt/tljh/user/lib/python3.7/site-packages/ipykernel_launcher.py:1: SettingWithCopyWarning: \n",
      "A value is trying to be set on a copy of a slice from a DataFrame.\n",
      "Try using .loc[row_indexer,col_indexer] = value instead\n",
      "\n",
      "See the caveats in the documentation: https://pandas.pydata.org/pandas-docs/stable/user_guide/indexing.html#returning-a-view-versus-a-copy\n",
      "  \"\"\"Entry point for launching an IPython kernel.\n"
     ]
    }
   ],
   "source": [
    "filtered_df['tags'] = filtered_df.url.apply(tags)"
   ]
  },
  {
   "cell_type": "code",
   "execution_count": 18,
   "metadata": {},
   "outputs": [
    {
     "data": {
      "text/plain": [
       "id           0\n",
       "time         0\n",
       "likes        0\n",
       "comments     0\n",
       "reposts      0\n",
       "views        0\n",
       "text         0\n",
       "ctr          0\n",
       "url          0\n",
       "year         0\n",
       "month        0\n",
       "day          0\n",
       "tags        44\n",
       "dtype: int64"
      ]
     },
     "execution_count": 18,
     "metadata": {},
     "output_type": "execute_result"
    }
   ],
   "source": [
    "filtered_df.isna().sum()"
   ]
  },
  {
   "cell_type": "code",
   "execution_count": 19,
   "metadata": {},
   "outputs": [
    {
     "name": "stderr",
     "output_type": "stream",
     "text": [
      "/opt/tljh/user/lib/python3.7/site-packages/ipykernel_launcher.py:1: SettingWithCopyWarning: \n",
      "A value is trying to be set on a copy of a slice from a DataFrame\n",
      "\n",
      "See the caveats in the documentation: https://pandas.pydata.org/pandas-docs/stable/user_guide/indexing.html#returning-a-view-versus-a-copy\n",
      "  \"\"\"Entry point for launching an IPython kernel.\n"
     ]
    }
   ],
   "source": [
    "filtered_df.dropna(inplace=True)"
   ]
  },
  {
   "cell_type": "code",
   "execution_count": 21,
   "metadata": {},
   "outputs": [
    {
     "data": {
      "text/html": [
       "<div>\n",
       "<style scoped>\n",
       "    .dataframe tbody tr th:only-of-type {\n",
       "        vertical-align: middle;\n",
       "    }\n",
       "\n",
       "    .dataframe tbody tr th {\n",
       "        vertical-align: top;\n",
       "    }\n",
       "\n",
       "    .dataframe thead th {\n",
       "        text-align: right;\n",
       "    }\n",
       "</style>\n",
       "<table border=\"1\" class=\"dataframe\">\n",
       "  <thead>\n",
       "    <tr style=\"text-align: right;\">\n",
       "      <th></th>\n",
       "      <th>id</th>\n",
       "      <th>time</th>\n",
       "      <th>likes</th>\n",
       "      <th>comments</th>\n",
       "      <th>reposts</th>\n",
       "      <th>views</th>\n",
       "      <th>text</th>\n",
       "      <th>ctr</th>\n",
       "      <th>url</th>\n",
       "      <th>year</th>\n",
       "      <th>month</th>\n",
       "      <th>day</th>\n",
       "      <th>tags</th>\n",
       "    </tr>\n",
       "  </thead>\n",
       "  <tbody>\n",
       "    <tr>\n",
       "      <th>1</th>\n",
       "      <td>319627</td>\n",
       "      <td>1604761803</td>\n",
       "      <td>44</td>\n",
       "      <td>12</td>\n",
       "      <td>3</td>\n",
       "      <td>17592</td>\n",
       "      <td>Алкотестеры можно обмануть, а вот походка выда...</td>\n",
       "      <td>0.25</td>\n",
       "      <td>https://knife.media/smartphone-as-alcodetector/</td>\n",
       "      <td>2020</td>\n",
       "      <td>2020-11</td>\n",
       "      <td>2020-11-07</td>\n",
       "      <td>[алкоголь, технологии]</td>\n",
       "    </tr>\n",
       "    <tr>\n",
       "      <th>2</th>\n",
       "      <td>319586</td>\n",
       "      <td>1604751003</td>\n",
       "      <td>54</td>\n",
       "      <td>25</td>\n",
       "      <td>10</td>\n",
       "      <td>12168</td>\n",
       "      <td>Жизнь молодого государства после Февральской р...</td>\n",
       "      <td>0.44</td>\n",
       "      <td>https://knife.media/october-revolution/</td>\n",
       "      <td>2020</td>\n",
       "      <td>2020-11</td>\n",
       "      <td>2020-11-07</td>\n",
       "      <td>[история, города, политика, россия]</td>\n",
       "    </tr>\n",
       "    <tr>\n",
       "      <th>3</th>\n",
       "      <td>319578</td>\n",
       "      <td>1604748303</td>\n",
       "      <td>310</td>\n",
       "      <td>28</td>\n",
       "      <td>25</td>\n",
       "      <td>18554</td>\n",
       "      <td>Вещество, содержащееся в галлюциногенных гриба...</td>\n",
       "      <td>1.67</td>\n",
       "      <td>https://knife.media/psilocybin-assisted-therapy/</td>\n",
       "      <td>2020</td>\n",
       "      <td>2020-11</td>\n",
       "      <td>2020-11-07</td>\n",
       "      <td>[здоровье, исследование, наркотики]</td>\n",
       "    </tr>\n",
       "    <tr>\n",
       "      <th>4</th>\n",
       "      <td>319544</td>\n",
       "      <td>1604736602</td>\n",
       "      <td>380</td>\n",
       "      <td>10</td>\n",
       "      <td>45</td>\n",
       "      <td>28104</td>\n",
       "      <td>Радость от мороженого длится пару мгновений, о...</td>\n",
       "      <td>1.35</td>\n",
       "      <td>https://knife.media/hedonic-adaptation/</td>\n",
       "      <td>2020</td>\n",
       "      <td>2020-11</td>\n",
       "      <td>2020-11-07</td>\n",
       "      <td>[мозг, наука, саморазвитие]</td>\n",
       "    </tr>\n",
       "    <tr>\n",
       "      <th>5</th>\n",
       "      <td>319424</td>\n",
       "      <td>1604676602</td>\n",
       "      <td>82</td>\n",
       "      <td>28</td>\n",
       "      <td>3</td>\n",
       "      <td>15232</td>\n",
       "      <td>Тогда у человечества появятся хоть какие-то ша...</td>\n",
       "      <td>0.54</td>\n",
       "      <td>https://knife.media/less-meat/</td>\n",
       "      <td>2020</td>\n",
       "      <td>2020-11</td>\n",
       "      <td>2020-11-06</td>\n",
       "      <td>[еда, исследование, экология]</td>\n",
       "    </tr>\n",
       "  </tbody>\n",
       "</table>\n",
       "</div>"
      ],
      "text/plain": [
       "       id        time  likes  comments  reposts  views  \\\n",
       "1  319627  1604761803     44        12        3  17592   \n",
       "2  319586  1604751003     54        25       10  12168   \n",
       "3  319578  1604748303    310        28       25  18554   \n",
       "4  319544  1604736602    380        10       45  28104   \n",
       "5  319424  1604676602     82        28        3  15232   \n",
       "\n",
       "                                                text   ctr  \\\n",
       "1  Алкотестеры можно обмануть, а вот походка выда...  0.25   \n",
       "2  Жизнь молодого государства после Февральской р...  0.44   \n",
       "3  Вещество, содержащееся в галлюциногенных гриба...  1.67   \n",
       "4  Радость от мороженого длится пару мгновений, о...  1.35   \n",
       "5  Тогда у человечества появятся хоть какие-то ша...  0.54   \n",
       "\n",
       "                                                url  year    month  \\\n",
       "1   https://knife.media/smartphone-as-alcodetector/  2020  2020-11   \n",
       "2           https://knife.media/october-revolution/  2020  2020-11   \n",
       "3  https://knife.media/psilocybin-assisted-therapy/  2020  2020-11   \n",
       "4           https://knife.media/hedonic-adaptation/  2020  2020-11   \n",
       "5                    https://knife.media/less-meat/  2020  2020-11   \n",
       "\n",
       "          day                                 tags  \n",
       "1  2020-11-07               [алкоголь, технологии]  \n",
       "2  2020-11-07  [история, города, политика, россия]  \n",
       "3  2020-11-07  [здоровье, исследование, наркотики]  \n",
       "4  2020-11-07          [мозг, наука, саморазвитие]  \n",
       "5  2020-11-06        [еда, исследование, экология]  "
      ]
     },
     "execution_count": 21,
     "metadata": {},
     "output_type": "execute_result"
    }
   ],
   "source": [
    "filtered_df.head()"
   ]
  },
  {
   "cell_type": "code",
   "execution_count": 39,
   "metadata": {},
   "outputs": [],
   "source": [
    "def need_tags(x):\n",
    "    tags_list = ['находка', 'литература', 'психология', 'наука', 'россия']\n",
    "    for i in tags_list:\n",
    "        if i in x:\n",
    "            return 1\n",
    "        else:\n",
    "            continue\n",
    "    return 0"
   ]
  },
  {
   "cell_type": "code",
   "execution_count": 41,
   "metadata": {},
   "outputs": [
    {
     "data": {
      "text/plain": [
       "4339"
      ]
     },
     "execution_count": 41,
     "metadata": {},
     "output_type": "execute_result"
    }
   ],
   "source": [
    "filtered_df.tags.apply(need_tags).sum()"
   ]
  },
  {
   "cell_type": "code",
   "execution_count": 22,
   "metadata": {},
   "outputs": [],
   "source": [
    "explode_tags = filtered_df.explode('tags')"
   ]
  },
  {
   "cell_type": "code",
   "execution_count": 23,
   "metadata": {},
   "outputs": [
    {
     "data": {
      "text/html": [
       "<div>\n",
       "<style scoped>\n",
       "    .dataframe tbody tr th:only-of-type {\n",
       "        vertical-align: middle;\n",
       "    }\n",
       "\n",
       "    .dataframe tbody tr th {\n",
       "        vertical-align: top;\n",
       "    }\n",
       "\n",
       "    .dataframe thead th {\n",
       "        text-align: right;\n",
       "    }\n",
       "</style>\n",
       "<table border=\"1\" class=\"dataframe\">\n",
       "  <thead>\n",
       "    <tr style=\"text-align: right;\">\n",
       "      <th></th>\n",
       "      <th>id</th>\n",
       "      <th>time</th>\n",
       "      <th>likes</th>\n",
       "      <th>comments</th>\n",
       "      <th>reposts</th>\n",
       "      <th>views</th>\n",
       "      <th>text</th>\n",
       "      <th>ctr</th>\n",
       "      <th>url</th>\n",
       "      <th>year</th>\n",
       "      <th>month</th>\n",
       "      <th>day</th>\n",
       "      <th>tags</th>\n",
       "    </tr>\n",
       "  </thead>\n",
       "  <tbody>\n",
       "    <tr>\n",
       "      <th>1</th>\n",
       "      <td>319627</td>\n",
       "      <td>1604761803</td>\n",
       "      <td>44</td>\n",
       "      <td>12</td>\n",
       "      <td>3</td>\n",
       "      <td>17592</td>\n",
       "      <td>Алкотестеры можно обмануть, а вот походка выда...</td>\n",
       "      <td>0.25</td>\n",
       "      <td>https://knife.media/smartphone-as-alcodetector/</td>\n",
       "      <td>2020</td>\n",
       "      <td>2020-11</td>\n",
       "      <td>2020-11-07</td>\n",
       "      <td>алкоголь</td>\n",
       "    </tr>\n",
       "    <tr>\n",
       "      <th>1</th>\n",
       "      <td>319627</td>\n",
       "      <td>1604761803</td>\n",
       "      <td>44</td>\n",
       "      <td>12</td>\n",
       "      <td>3</td>\n",
       "      <td>17592</td>\n",
       "      <td>Алкотестеры можно обмануть, а вот походка выда...</td>\n",
       "      <td>0.25</td>\n",
       "      <td>https://knife.media/smartphone-as-alcodetector/</td>\n",
       "      <td>2020</td>\n",
       "      <td>2020-11</td>\n",
       "      <td>2020-11-07</td>\n",
       "      <td>технологии</td>\n",
       "    </tr>\n",
       "    <tr>\n",
       "      <th>2</th>\n",
       "      <td>319586</td>\n",
       "      <td>1604751003</td>\n",
       "      <td>54</td>\n",
       "      <td>25</td>\n",
       "      <td>10</td>\n",
       "      <td>12168</td>\n",
       "      <td>Жизнь молодого государства после Февральской р...</td>\n",
       "      <td>0.44</td>\n",
       "      <td>https://knife.media/october-revolution/</td>\n",
       "      <td>2020</td>\n",
       "      <td>2020-11</td>\n",
       "      <td>2020-11-07</td>\n",
       "      <td>история</td>\n",
       "    </tr>\n",
       "    <tr>\n",
       "      <th>2</th>\n",
       "      <td>319586</td>\n",
       "      <td>1604751003</td>\n",
       "      <td>54</td>\n",
       "      <td>25</td>\n",
       "      <td>10</td>\n",
       "      <td>12168</td>\n",
       "      <td>Жизнь молодого государства после Февральской р...</td>\n",
       "      <td>0.44</td>\n",
       "      <td>https://knife.media/october-revolution/</td>\n",
       "      <td>2020</td>\n",
       "      <td>2020-11</td>\n",
       "      <td>2020-11-07</td>\n",
       "      <td>города</td>\n",
       "    </tr>\n",
       "    <tr>\n",
       "      <th>2</th>\n",
       "      <td>319586</td>\n",
       "      <td>1604751003</td>\n",
       "      <td>54</td>\n",
       "      <td>25</td>\n",
       "      <td>10</td>\n",
       "      <td>12168</td>\n",
       "      <td>Жизнь молодого государства после Февральской р...</td>\n",
       "      <td>0.44</td>\n",
       "      <td>https://knife.media/october-revolution/</td>\n",
       "      <td>2020</td>\n",
       "      <td>2020-11</td>\n",
       "      <td>2020-11-07</td>\n",
       "      <td>политика</td>\n",
       "    </tr>\n",
       "    <tr>\n",
       "      <th>2</th>\n",
       "      <td>319586</td>\n",
       "      <td>1604751003</td>\n",
       "      <td>54</td>\n",
       "      <td>25</td>\n",
       "      <td>10</td>\n",
       "      <td>12168</td>\n",
       "      <td>Жизнь молодого государства после Февральской р...</td>\n",
       "      <td>0.44</td>\n",
       "      <td>https://knife.media/october-revolution/</td>\n",
       "      <td>2020</td>\n",
       "      <td>2020-11</td>\n",
       "      <td>2020-11-07</td>\n",
       "      <td>россия</td>\n",
       "    </tr>\n",
       "    <tr>\n",
       "      <th>3</th>\n",
       "      <td>319578</td>\n",
       "      <td>1604748303</td>\n",
       "      <td>310</td>\n",
       "      <td>28</td>\n",
       "      <td>25</td>\n",
       "      <td>18554</td>\n",
       "      <td>Вещество, содержащееся в галлюциногенных гриба...</td>\n",
       "      <td>1.67</td>\n",
       "      <td>https://knife.media/psilocybin-assisted-therapy/</td>\n",
       "      <td>2020</td>\n",
       "      <td>2020-11</td>\n",
       "      <td>2020-11-07</td>\n",
       "      <td>здоровье</td>\n",
       "    </tr>\n",
       "    <tr>\n",
       "      <th>3</th>\n",
       "      <td>319578</td>\n",
       "      <td>1604748303</td>\n",
       "      <td>310</td>\n",
       "      <td>28</td>\n",
       "      <td>25</td>\n",
       "      <td>18554</td>\n",
       "      <td>Вещество, содержащееся в галлюциногенных гриба...</td>\n",
       "      <td>1.67</td>\n",
       "      <td>https://knife.media/psilocybin-assisted-therapy/</td>\n",
       "      <td>2020</td>\n",
       "      <td>2020-11</td>\n",
       "      <td>2020-11-07</td>\n",
       "      <td>исследование</td>\n",
       "    </tr>\n",
       "    <tr>\n",
       "      <th>3</th>\n",
       "      <td>319578</td>\n",
       "      <td>1604748303</td>\n",
       "      <td>310</td>\n",
       "      <td>28</td>\n",
       "      <td>25</td>\n",
       "      <td>18554</td>\n",
       "      <td>Вещество, содержащееся в галлюциногенных гриба...</td>\n",
       "      <td>1.67</td>\n",
       "      <td>https://knife.media/psilocybin-assisted-therapy/</td>\n",
       "      <td>2020</td>\n",
       "      <td>2020-11</td>\n",
       "      <td>2020-11-07</td>\n",
       "      <td>наркотики</td>\n",
       "    </tr>\n",
       "    <tr>\n",
       "      <th>4</th>\n",
       "      <td>319544</td>\n",
       "      <td>1604736602</td>\n",
       "      <td>380</td>\n",
       "      <td>10</td>\n",
       "      <td>45</td>\n",
       "      <td>28104</td>\n",
       "      <td>Радость от мороженого длится пару мгновений, о...</td>\n",
       "      <td>1.35</td>\n",
       "      <td>https://knife.media/hedonic-adaptation/</td>\n",
       "      <td>2020</td>\n",
       "      <td>2020-11</td>\n",
       "      <td>2020-11-07</td>\n",
       "      <td>мозг</td>\n",
       "    </tr>\n",
       "  </tbody>\n",
       "</table>\n",
       "</div>"
      ],
      "text/plain": [
       "       id        time  likes  comments  reposts  views  \\\n",
       "1  319627  1604761803     44        12        3  17592   \n",
       "1  319627  1604761803     44        12        3  17592   \n",
       "2  319586  1604751003     54        25       10  12168   \n",
       "2  319586  1604751003     54        25       10  12168   \n",
       "2  319586  1604751003     54        25       10  12168   \n",
       "2  319586  1604751003     54        25       10  12168   \n",
       "3  319578  1604748303    310        28       25  18554   \n",
       "3  319578  1604748303    310        28       25  18554   \n",
       "3  319578  1604748303    310        28       25  18554   \n",
       "4  319544  1604736602    380        10       45  28104   \n",
       "\n",
       "                                                text   ctr  \\\n",
       "1  Алкотестеры можно обмануть, а вот походка выда...  0.25   \n",
       "1  Алкотестеры можно обмануть, а вот походка выда...  0.25   \n",
       "2  Жизнь молодого государства после Февральской р...  0.44   \n",
       "2  Жизнь молодого государства после Февральской р...  0.44   \n",
       "2  Жизнь молодого государства после Февральской р...  0.44   \n",
       "2  Жизнь молодого государства после Февральской р...  0.44   \n",
       "3  Вещество, содержащееся в галлюциногенных гриба...  1.67   \n",
       "3  Вещество, содержащееся в галлюциногенных гриба...  1.67   \n",
       "3  Вещество, содержащееся в галлюциногенных гриба...  1.67   \n",
       "4  Радость от мороженого длится пару мгновений, о...  1.35   \n",
       "\n",
       "                                                url  year    month  \\\n",
       "1   https://knife.media/smartphone-as-alcodetector/  2020  2020-11   \n",
       "1   https://knife.media/smartphone-as-alcodetector/  2020  2020-11   \n",
       "2           https://knife.media/october-revolution/  2020  2020-11   \n",
       "2           https://knife.media/october-revolution/  2020  2020-11   \n",
       "2           https://knife.media/october-revolution/  2020  2020-11   \n",
       "2           https://knife.media/october-revolution/  2020  2020-11   \n",
       "3  https://knife.media/psilocybin-assisted-therapy/  2020  2020-11   \n",
       "3  https://knife.media/psilocybin-assisted-therapy/  2020  2020-11   \n",
       "3  https://knife.media/psilocybin-assisted-therapy/  2020  2020-11   \n",
       "4           https://knife.media/hedonic-adaptation/  2020  2020-11   \n",
       "\n",
       "          day          tags  \n",
       "1  2020-11-07      алкоголь  \n",
       "1  2020-11-07    технологии  \n",
       "2  2020-11-07       история  \n",
       "2  2020-11-07        города  \n",
       "2  2020-11-07      политика  \n",
       "2  2020-11-07        россия  \n",
       "3  2020-11-07      здоровье  \n",
       "3  2020-11-07  исследование  \n",
       "3  2020-11-07     наркотики  \n",
       "4  2020-11-07          мозг  "
      ]
     },
     "execution_count": 23,
     "metadata": {},
     "output_type": "execute_result"
    }
   ],
   "source": [
    "explode_tags.head(10)"
   ]
  },
  {
   "cell_type": "code",
   "execution_count": 36,
   "metadata": {},
   "outputs": [
    {
     "data": {
      "text/plain": [
       "(23556, 13)"
      ]
     },
     "execution_count": 36,
     "metadata": {},
     "output_type": "execute_result"
    }
   ],
   "source": [
    "explode_tags.shape"
   ]
  },
  {
   "cell_type": "code",
   "execution_count": 24,
   "metadata": {},
   "outputs": [],
   "source": [
    "explode_tags.to_csv('explode_tags.csv', index=False)"
   ]
  },
  {
   "cell_type": "code",
   "execution_count": 25,
   "metadata": {},
   "outputs": [],
   "source": [
    "tags_list = ['находка', 'литература', 'психология', 'наука', 'россия']"
   ]
  },
  {
   "cell_type": "code",
   "execution_count": 28,
   "metadata": {},
   "outputs": [],
   "source": [
    "df_for_classification = explode_tags.query(\"tags in @ tags_list\")"
   ]
  },
  {
   "cell_type": "code",
   "execution_count": 31,
   "metadata": {},
   "outputs": [
    {
     "data": {
      "text/html": [
       "<div>\n",
       "<style scoped>\n",
       "    .dataframe tbody tr th:only-of-type {\n",
       "        vertical-align: middle;\n",
       "    }\n",
       "\n",
       "    .dataframe tbody tr th {\n",
       "        vertical-align: top;\n",
       "    }\n",
       "\n",
       "    .dataframe thead th {\n",
       "        text-align: right;\n",
       "    }\n",
       "</style>\n",
       "<table border=\"1\" class=\"dataframe\">\n",
       "  <thead>\n",
       "    <tr style=\"text-align: right;\">\n",
       "      <th></th>\n",
       "      <th>id</th>\n",
       "      <th>time</th>\n",
       "      <th>likes</th>\n",
       "      <th>comments</th>\n",
       "      <th>reposts</th>\n",
       "      <th>views</th>\n",
       "      <th>text</th>\n",
       "      <th>ctr</th>\n",
       "      <th>url</th>\n",
       "      <th>year</th>\n",
       "      <th>month</th>\n",
       "      <th>day</th>\n",
       "      <th>tags</th>\n",
       "    </tr>\n",
       "  </thead>\n",
       "  <tbody>\n",
       "    <tr>\n",
       "      <th>2</th>\n",
       "      <td>319586</td>\n",
       "      <td>1604751003</td>\n",
       "      <td>54</td>\n",
       "      <td>25</td>\n",
       "      <td>10</td>\n",
       "      <td>12168</td>\n",
       "      <td>Жизнь молодого государства после Февральской р...</td>\n",
       "      <td>0.44</td>\n",
       "      <td>https://knife.media/october-revolution/</td>\n",
       "      <td>2020</td>\n",
       "      <td>2020-11</td>\n",
       "      <td>2020-11-07</td>\n",
       "      <td>россия</td>\n",
       "    </tr>\n",
       "    <tr>\n",
       "      <th>4</th>\n",
       "      <td>319544</td>\n",
       "      <td>1604736602</td>\n",
       "      <td>380</td>\n",
       "      <td>10</td>\n",
       "      <td>45</td>\n",
       "      <td>28104</td>\n",
       "      <td>Радость от мороженого длится пару мгновений, о...</td>\n",
       "      <td>1.35</td>\n",
       "      <td>https://knife.media/hedonic-adaptation/</td>\n",
       "      <td>2020</td>\n",
       "      <td>2020-11</td>\n",
       "      <td>2020-11-07</td>\n",
       "      <td>наука</td>\n",
       "    </tr>\n",
       "    <tr>\n",
       "      <th>6</th>\n",
       "      <td>319419</td>\n",
       "      <td>1604675403</td>\n",
       "      <td>46</td>\n",
       "      <td>14</td>\n",
       "      <td>5</td>\n",
       "      <td>26881</td>\n",
       "      <td>Евгений «Маэстро» Дмитерко — артист милостью б...</td>\n",
       "      <td>0.17</td>\n",
       "      <td>https://knife.media/maestro-ryba/</td>\n",
       "      <td>2020</td>\n",
       "      <td>2020-11</td>\n",
       "      <td>2020-11-06</td>\n",
       "      <td>россия</td>\n",
       "    </tr>\n",
       "    <tr>\n",
       "      <th>8</th>\n",
       "      <td>319395</td>\n",
       "      <td>1604670363</td>\n",
       "      <td>177</td>\n",
       "      <td>2</td>\n",
       "      <td>18</td>\n",
       "      <td>12200</td>\n",
       "      <td>«Жизнь коротка. И надо уметь. Надо уметь уходи...</td>\n",
       "      <td>1.45</td>\n",
       "      <td>https://knife.media/zhvanetsky-rip/</td>\n",
       "      <td>2020</td>\n",
       "      <td>2020-11</td>\n",
       "      <td>2020-11-06</td>\n",
       "      <td>литература</td>\n",
       "    </tr>\n",
       "    <tr>\n",
       "      <th>8</th>\n",
       "      <td>319395</td>\n",
       "      <td>1604670363</td>\n",
       "      <td>177</td>\n",
       "      <td>2</td>\n",
       "      <td>18</td>\n",
       "      <td>12200</td>\n",
       "      <td>«Жизнь коротка. И надо уметь. Надо уметь уходи...</td>\n",
       "      <td>1.45</td>\n",
       "      <td>https://knife.media/zhvanetsky-rip/</td>\n",
       "      <td>2020</td>\n",
       "      <td>2020-11</td>\n",
       "      <td>2020-11-06</td>\n",
       "      <td>россия</td>\n",
       "    </tr>\n",
       "  </tbody>\n",
       "</table>\n",
       "</div>"
      ],
      "text/plain": [
       "       id        time  likes  comments  reposts  views  \\\n",
       "2  319586  1604751003     54        25       10  12168   \n",
       "4  319544  1604736602    380        10       45  28104   \n",
       "6  319419  1604675403     46        14        5  26881   \n",
       "8  319395  1604670363    177         2       18  12200   \n",
       "8  319395  1604670363    177         2       18  12200   \n",
       "\n",
       "                                                text   ctr  \\\n",
       "2  Жизнь молодого государства после Февральской р...  0.44   \n",
       "4  Радость от мороженого длится пару мгновений, о...  1.35   \n",
       "6  Евгений «Маэстро» Дмитерко — артист милостью б...  0.17   \n",
       "8  «Жизнь коротка. И надо уметь. Надо уметь уходи...  1.45   \n",
       "8  «Жизнь коротка. И надо уметь. Надо уметь уходи...  1.45   \n",
       "\n",
       "                                       url  year    month         day  \\\n",
       "2  https://knife.media/october-revolution/  2020  2020-11  2020-11-07   \n",
       "4  https://knife.media/hedonic-adaptation/  2020  2020-11  2020-11-07   \n",
       "6        https://knife.media/maestro-ryba/  2020  2020-11  2020-11-06   \n",
       "8      https://knife.media/zhvanetsky-rip/  2020  2020-11  2020-11-06   \n",
       "8      https://knife.media/zhvanetsky-rip/  2020  2020-11  2020-11-06   \n",
       "\n",
       "         tags  \n",
       "2      россия  \n",
       "4       наука  \n",
       "6      россия  \n",
       "8  литература  \n",
       "8      россия  "
      ]
     },
     "execution_count": 31,
     "metadata": {},
     "output_type": "execute_result"
    }
   ],
   "source": [
    "df_for_classification.head()"
   ]
  },
  {
   "cell_type": "code",
   "execution_count": 44,
   "metadata": {},
   "outputs": [
    {
     "data": {
      "text/plain": [
       "(5149, 13)"
      ]
     },
     "execution_count": 44,
     "metadata": {},
     "output_type": "execute_result"
    }
   ],
   "source": [
    "df_for_classification.shape"
   ]
  },
  {
   "cell_type": "code",
   "execution_count": 35,
   "metadata": {},
   "outputs": [
    {
     "data": {
      "text/plain": [
       "4339"
      ]
     },
     "execution_count": 35,
     "metadata": {},
     "output_type": "execute_result"
    }
   ],
   "source": [
    "df_for_classification.id.nunique()"
   ]
  },
  {
   "cell_type": "code",
   "execution_count": 68,
   "metadata": {},
   "outputs": [],
   "source": [
    "df_for_classification_target = pd.get_dummies(df_for_classification[['id', 'tags']]).groupby('id', as_index=False).sum()"
   ]
  },
  {
   "cell_type": "code",
   "execution_count": 69,
   "metadata": {},
   "outputs": [
    {
     "data": {
      "text/html": [
       "<div>\n",
       "<style scoped>\n",
       "    .dataframe tbody tr th:only-of-type {\n",
       "        vertical-align: middle;\n",
       "    }\n",
       "\n",
       "    .dataframe tbody tr th {\n",
       "        vertical-align: top;\n",
       "    }\n",
       "\n",
       "    .dataframe thead th {\n",
       "        text-align: right;\n",
       "    }\n",
       "</style>\n",
       "<table border=\"1\" class=\"dataframe\">\n",
       "  <thead>\n",
       "    <tr style=\"text-align: right;\">\n",
       "      <th></th>\n",
       "      <th>id</th>\n",
       "      <th>tags_литература</th>\n",
       "      <th>tags_наука</th>\n",
       "      <th>tags_находка</th>\n",
       "      <th>tags_психология</th>\n",
       "      <th>tags_россия</th>\n",
       "    </tr>\n",
       "  </thead>\n",
       "  <tbody>\n",
       "    <tr>\n",
       "      <th>0</th>\n",
       "      <td>145781</td>\n",
       "      <td>0</td>\n",
       "      <td>0</td>\n",
       "      <td>0</td>\n",
       "      <td>1</td>\n",
       "      <td>0</td>\n",
       "    </tr>\n",
       "    <tr>\n",
       "      <th>1</th>\n",
       "      <td>145784</td>\n",
       "      <td>0</td>\n",
       "      <td>1</td>\n",
       "      <td>0</td>\n",
       "      <td>0</td>\n",
       "      <td>0</td>\n",
       "    </tr>\n",
       "    <tr>\n",
       "      <th>2</th>\n",
       "      <td>145792</td>\n",
       "      <td>0</td>\n",
       "      <td>1</td>\n",
       "      <td>0</td>\n",
       "      <td>0</td>\n",
       "      <td>0</td>\n",
       "    </tr>\n",
       "    <tr>\n",
       "      <th>3</th>\n",
       "      <td>145804</td>\n",
       "      <td>0</td>\n",
       "      <td>1</td>\n",
       "      <td>0</td>\n",
       "      <td>0</td>\n",
       "      <td>0</td>\n",
       "    </tr>\n",
       "    <tr>\n",
       "      <th>4</th>\n",
       "      <td>145835</td>\n",
       "      <td>0</td>\n",
       "      <td>1</td>\n",
       "      <td>0</td>\n",
       "      <td>0</td>\n",
       "      <td>0</td>\n",
       "    </tr>\n",
       "  </tbody>\n",
       "</table>\n",
       "</div>"
      ],
      "text/plain": [
       "       id  tags_литература  tags_наука  tags_находка  tags_психология  \\\n",
       "0  145781                0           0             0                1   \n",
       "1  145784                0           1             0                0   \n",
       "2  145792                0           1             0                0   \n",
       "3  145804                0           1             0                0   \n",
       "4  145835                0           1             0                0   \n",
       "\n",
       "   tags_россия  \n",
       "0            0  \n",
       "1            0  \n",
       "2            0  \n",
       "3            0  \n",
       "4            0  "
      ]
     },
     "execution_count": 69,
     "metadata": {},
     "output_type": "execute_result"
    }
   ],
   "source": [
    "df_for_classification_target.head()"
   ]
  },
  {
   "cell_type": "code",
   "execution_count": 70,
   "metadata": {},
   "outputs": [
    {
     "data": {
      "text/plain": [
       "id                 996850981\n",
       "tags_литература          706\n",
       "tags_наука               883\n",
       "tags_находка             494\n",
       "tags_психология          865\n",
       "tags_россия             2201\n",
       "dtype: int64"
      ]
     },
     "execution_count": 70,
     "metadata": {},
     "output_type": "execute_result"
    }
   ],
   "source": [
    "df_for_classification_target.sum()"
   ]
  },
  {
   "cell_type": "code",
   "execution_count": 71,
   "metadata": {},
   "outputs": [
    {
     "data": {
      "text/plain": [
       "(4339, 6)"
      ]
     },
     "execution_count": 71,
     "metadata": {},
     "output_type": "execute_result"
    }
   ],
   "source": [
    "df_for_classification_target.shape"
   ]
  },
  {
   "cell_type": "code",
   "execution_count": 72,
   "metadata": {},
   "outputs": [],
   "source": [
    "df_for_classification_target.to_csv('tags_for_fit.csv', index=False)"
   ]
  },
  {
   "cell_type": "code",
   "execution_count": 48,
   "metadata": {},
   "outputs": [],
   "source": [
    "df_for_classification_feature = filtered_df.query(\"id in @df_for_classification_target.id\")[['id', 'ctr', 'url']]"
   ]
  },
  {
   "cell_type": "code",
   "execution_count": 49,
   "metadata": {},
   "outputs": [
    {
     "data": {
      "text/html": [
       "<div>\n",
       "<style scoped>\n",
       "    .dataframe tbody tr th:only-of-type {\n",
       "        vertical-align: middle;\n",
       "    }\n",
       "\n",
       "    .dataframe tbody tr th {\n",
       "        vertical-align: top;\n",
       "    }\n",
       "\n",
       "    .dataframe thead th {\n",
       "        text-align: right;\n",
       "    }\n",
       "</style>\n",
       "<table border=\"1\" class=\"dataframe\">\n",
       "  <thead>\n",
       "    <tr style=\"text-align: right;\">\n",
       "      <th></th>\n",
       "      <th>id</th>\n",
       "      <th>ctr</th>\n",
       "      <th>url</th>\n",
       "    </tr>\n",
       "  </thead>\n",
       "  <tbody>\n",
       "    <tr>\n",
       "      <th>2</th>\n",
       "      <td>319586</td>\n",
       "      <td>0.44</td>\n",
       "      <td>https://knife.media/october-revolution/</td>\n",
       "    </tr>\n",
       "    <tr>\n",
       "      <th>4</th>\n",
       "      <td>319544</td>\n",
       "      <td>1.35</td>\n",
       "      <td>https://knife.media/hedonic-adaptation/</td>\n",
       "    </tr>\n",
       "    <tr>\n",
       "      <th>6</th>\n",
       "      <td>319419</td>\n",
       "      <td>0.17</td>\n",
       "      <td>https://knife.media/maestro-ryba/</td>\n",
       "    </tr>\n",
       "    <tr>\n",
       "      <th>8</th>\n",
       "      <td>319395</td>\n",
       "      <td>1.45</td>\n",
       "      <td>https://knife.media/zhvanetsky-rip/</td>\n",
       "    </tr>\n",
       "    <tr>\n",
       "      <th>9</th>\n",
       "      <td>319368</td>\n",
       "      <td>0.27</td>\n",
       "      <td>https://knife.media/cancer-therapy-study/</td>\n",
       "    </tr>\n",
       "  </tbody>\n",
       "</table>\n",
       "</div>"
      ],
      "text/plain": [
       "       id   ctr                                        url\n",
       "2  319586  0.44    https://knife.media/october-revolution/\n",
       "4  319544  1.35    https://knife.media/hedonic-adaptation/\n",
       "6  319419  0.17          https://knife.media/maestro-ryba/\n",
       "8  319395  1.45        https://knife.media/zhvanetsky-rip/\n",
       "9  319368  0.27  https://knife.media/cancer-therapy-study/"
      ]
     },
     "execution_count": 49,
     "metadata": {},
     "output_type": "execute_result"
    }
   ],
   "source": [
    "df_for_classification_feature.head()"
   ]
  },
  {
   "cell_type": "code",
   "execution_count": 50,
   "metadata": {},
   "outputs": [
    {
     "data": {
      "text/plain": [
       "(4339, 3)"
      ]
     },
     "execution_count": 50,
     "metadata": {},
     "output_type": "execute_result"
    }
   ],
   "source": [
    "df_for_classification_feature.shape"
   ]
  },
  {
   "cell_type": "code",
   "execution_count": 60,
   "metadata": {},
   "outputs": [],
   "source": [
    "df_for_classification_feature['text'] = df_for_classification_feature.url.apply(cleaner_text)"
   ]
  },
  {
   "cell_type": "code",
   "execution_count": 61,
   "metadata": {},
   "outputs": [
    {
     "data": {
      "text/html": [
       "<div>\n",
       "<style scoped>\n",
       "    .dataframe tbody tr th:only-of-type {\n",
       "        vertical-align: middle;\n",
       "    }\n",
       "\n",
       "    .dataframe tbody tr th {\n",
       "        vertical-align: top;\n",
       "    }\n",
       "\n",
       "    .dataframe thead th {\n",
       "        text-align: right;\n",
       "    }\n",
       "</style>\n",
       "<table border=\"1\" class=\"dataframe\">\n",
       "  <thead>\n",
       "    <tr style=\"text-align: right;\">\n",
       "      <th></th>\n",
       "      <th>id</th>\n",
       "      <th>ctr</th>\n",
       "      <th>url</th>\n",
       "      <th>text</th>\n",
       "    </tr>\n",
       "  </thead>\n",
       "  <tbody>\n",
       "    <tr>\n",
       "      <th>2</th>\n",
       "      <td>319586</td>\n",
       "      <td>0.44</td>\n",
       "      <td>https://knife.media/october-revolution/</td>\n",
       "      <td>Ровно года назад ноября года октября по старом...</td>\n",
       "    </tr>\n",
       "    <tr>\n",
       "      <th>4</th>\n",
       "      <td>319544</td>\n",
       "      <td>1.35</td>\n",
       "      <td>https://knife.media/hedonic-adaptation/</td>\n",
       "      <td>Когда происходит что то хорошее мы старательно...</td>\n",
       "    </tr>\n",
       "    <tr>\n",
       "      <th>6</th>\n",
       "      <td>319419</td>\n",
       "      <td>0.17</td>\n",
       "      <td>https://knife.media/maestro-ryba/</td>\n",
       "      <td>Евгений Маэстро Дмитерко недавно вспыхнувшая з...</td>\n",
       "    </tr>\n",
       "    <tr>\n",
       "      <th>8</th>\n",
       "      <td>319395</td>\n",
       "      <td>1.45</td>\n",
       "      <td>https://knife.media/zhvanetsky-rip/</td>\n",
       "      <td>Умер писатель сатирик Михаил Жванецкий Ему был...</td>\n",
       "    </tr>\n",
       "    <tr>\n",
       "      <th>9</th>\n",
       "      <td>319368</td>\n",
       "      <td>0.27</td>\n",
       "      <td>https://knife.media/cancer-therapy-study/</td>\n",
       "      <td>Ученые Института молекулярной и клеточной биол...</td>\n",
       "    </tr>\n",
       "  </tbody>\n",
       "</table>\n",
       "</div>"
      ],
      "text/plain": [
       "       id   ctr                                        url  \\\n",
       "2  319586  0.44    https://knife.media/october-revolution/   \n",
       "4  319544  1.35    https://knife.media/hedonic-adaptation/   \n",
       "6  319419  0.17          https://knife.media/maestro-ryba/   \n",
       "8  319395  1.45        https://knife.media/zhvanetsky-rip/   \n",
       "9  319368  0.27  https://knife.media/cancer-therapy-study/   \n",
       "\n",
       "                                                text  \n",
       "2  Ровно года назад ноября года октября по старом...  \n",
       "4  Когда происходит что то хорошее мы старательно...  \n",
       "6  Евгений Маэстро Дмитерко недавно вспыхнувшая з...  \n",
       "8  Умер писатель сатирик Михаил Жванецкий Ему был...  \n",
       "9  Ученые Института молекулярной и клеточной биол...  "
      ]
     },
     "execution_count": 61,
     "metadata": {},
     "output_type": "execute_result"
    }
   ],
   "source": [
    "df_for_classification_feature.head()"
   ]
  },
  {
   "cell_type": "code",
   "execution_count": 62,
   "metadata": {},
   "outputs": [],
   "source": [
    "df_for_classification_feature.to_csv('texts.csv', index=False)"
   ]
  },
  {
   "cell_type": "code",
   "execution_count": null,
   "metadata": {},
   "outputs": [],
   "source": []
  },
  {
   "cell_type": "code",
   "execution_count": 7,
   "metadata": {},
   "outputs": [],
   "source": [
    "df = pd.read_csv('texts.csv')"
   ]
  },
  {
   "cell_type": "code",
   "execution_count": 9,
   "metadata": {},
   "outputs": [
    {
     "data": {
      "text/plain": [
       "3759"
      ]
     },
     "execution_count": 9,
     "metadata": {},
     "output_type": "execute_result"
    }
   ],
   "source": [
    "df.url.nunique()"
   ]
  },
  {
   "cell_type": "code",
   "execution_count": null,
   "metadata": {},
   "outputs": [],
   "source": []
  }
 ],
 "metadata": {
  "kernelspec": {
   "display_name": "Python 3",
   "language": "python",
   "name": "python3"
  },
  "language_info": {
   "codemirror_mode": {
    "name": "ipython",
    "version": 3
   },
   "file_extension": ".py",
   "mimetype": "text/x-python",
   "name": "python",
   "nbconvert_exporter": "python",
   "pygments_lexer": "ipython3",
   "version": "3.7.3"
  }
 },
 "nbformat": 4,
 "nbformat_minor": 4
}
