{
 "cells": [
  {
   "cell_type": "code",
   "execution_count": 1,
   "metadata": {},
   "outputs": [],
   "source": [
    "import pandas as pd\n",
    "import numpy as np\n",
    "# для парсинга\n",
    "import requests\n",
    "from urllib.request import urlopen\n",
    "from bs4 import BeautifulSoup\n",
    "import re"
   ]
  },
  {
   "cell_type": "code",
   "execution_count": 2,
   "metadata": {},
   "outputs": [],
   "source": [
    "def wall_parser():\n",
    "    token = ''\n",
    "    api = 'https://api.vk.com/method/wall.get'\n",
    "    version = 5.92\n",
    "    domain = 'knife.media'\n",
    "    offset = 0\n",
    "    count = 100\n",
    "    all_posts = []\n",
    "\n",
    "    while offset < 9000:\n",
    "        response = requests.get(api,\n",
    "                                params = {'access_token': token,\n",
    "                                          'v': version,\n",
    "                                          'domain': domain,\n",
    "                                          'count': count,\n",
    "                                          'offset': offset}\n",
    "                               )\n",
    "        data = response.json()['response']['items']\n",
    "        offset += count\n",
    "        all_posts.extend(data)\n",
    "    return all_posts"
   ]
  },
  {
   "cell_type": "code",
   "execution_count": 3,
   "metadata": {},
   "outputs": [],
   "source": [
    "def filter_inf():\n",
    "    filter_data_list = []\n",
    "    all_posts = wall_parser()\n",
    "    for post in all_posts:\n",
    "        filter_data_list.append([post['id'],\n",
    "                                 post['date'],\n",
    "                                 post['likes']['count'],\n",
    "                                 post['comments']['count'],\n",
    "                                 post['reposts']['count'],\n",
    "                                 post['views']['count'],\n",
    "                                 post['text']])\n",
    "    return filter_data_list"
   ]
  },
  {
   "cell_type": "code",
   "execution_count": 4,
   "metadata": {},
   "outputs": [],
   "source": [
    "def get_url(x):\n",
    "    pattern = r'(https://kn.+)|(http://knf.+)'\n",
    "    try:\n",
    "        return re.search(pattern, x)[0]\n",
    "    except:\n",
    "        return ('false')"
   ]
  },
  {
   "cell_type": "code",
   "execution_count": 5,
   "metadata": {},
   "outputs": [],
   "source": [
    "# функция парсинга тегов\n",
    "def get_tags(link):\n",
    "    tags_page = []\n",
    "    try:\n",
    "        html = urlopen(link).read().decode('utf-8')\n",
    "        soup = BeautifulSoup(html,'html.parser')\n",
    "        tags = soup.find_all(rel=\"tag\")\n",
    "        for tag in tags:\n",
    "            tags_page.append(tag.text)\n",
    "    except:\n",
    "        return None\n",
    "    if len(tags_page) == 0:\n",
    "        return None\n",
    "    return tags_page"
   ]
  },
  {
   "cell_type": "code",
   "execution_count": 6,
   "metadata": {},
   "outputs": [],
   "source": [
    "# формируем датафрейм"
   ]
  },
  {
   "cell_type": "code",
   "execution_count": 7,
   "metadata": {},
   "outputs": [],
   "source": [
    "columns = ['id', 'time', 'likes', 'comments', 'reposts', 'views', 'text']\n",
    "df = pd.DataFrame(filter_inf(), columns = columns)"
   ]
  },
  {
   "cell_type": "code",
   "execution_count": 8,
   "metadata": {},
   "outputs": [],
   "source": [
    "# рассчитываем метрику, по которой в дальнейшем будем оценивать качество постов\n",
    "df['ctr'] = (df.likes / df.views * 100).round(2)"
   ]
  },
  {
   "cell_type": "code",
   "execution_count": 9,
   "metadata": {},
   "outputs": [],
   "source": [
    "# парсим ссылки из заголовков постов\n",
    "df['url'] = df.text.apply(get_url)"
   ]
  },
  {
   "cell_type": "code",
   "execution_count": 10,
   "metadata": {},
   "outputs": [],
   "source": [
    "df['year'] = pd.to_datetime(df.time, unit='s').dt.to_period('Y')\n",
    "df['month'] = pd.to_datetime(df.time, unit='s').dt.to_period('M')\n",
    "df['day'] = pd.to_datetime(df.time, unit='s').dt.to_period('D')"
   ]
  },
  {
   "cell_type": "code",
   "execution_count": 11,
   "metadata": {},
   "outputs": [
    {
     "data": {
      "text/html": [
       "<div>\n",
       "<style scoped>\n",
       "    .dataframe tbody tr th:only-of-type {\n",
       "        vertical-align: middle;\n",
       "    }\n",
       "\n",
       "    .dataframe tbody tr th {\n",
       "        vertical-align: top;\n",
       "    }\n",
       "\n",
       "    .dataframe thead th {\n",
       "        text-align: right;\n",
       "    }\n",
       "</style>\n",
       "<table border=\"1\" class=\"dataframe\">\n",
       "  <thead>\n",
       "    <tr style=\"text-align: right;\">\n",
       "      <th></th>\n",
       "      <th>id</th>\n",
       "      <th>time</th>\n",
       "      <th>likes</th>\n",
       "      <th>comments</th>\n",
       "      <th>reposts</th>\n",
       "      <th>views</th>\n",
       "      <th>text</th>\n",
       "      <th>ctr</th>\n",
       "      <th>url</th>\n",
       "      <th>year</th>\n",
       "      <th>month</th>\n",
       "      <th>day</th>\n",
       "    </tr>\n",
       "  </thead>\n",
       "  <tbody>\n",
       "    <tr>\n",
       "      <th>0</th>\n",
       "      <td>320422</td>\n",
       "      <td>1605261747</td>\n",
       "      <td>51</td>\n",
       "      <td>8</td>\n",
       "      <td>1</td>\n",
       "      <td>17555</td>\n",
       "      <td>«Нож» ищет новостника — быстрого, сообразитель...</td>\n",
       "      <td>0.29</td>\n",
       "      <td>https://knf.md/news/</td>\n",
       "      <td>2020</td>\n",
       "      <td>2020-11</td>\n",
       "      <td>2020-11-13</td>\n",
       "    </tr>\n",
       "    <tr>\n",
       "      <th>1</th>\n",
       "      <td>320900</td>\n",
       "      <td>1605604268</td>\n",
       "      <td>57</td>\n",
       "      <td>3</td>\n",
       "      <td>3</td>\n",
       "      <td>7159</td>\n",
       "      <td>Мужчина  ухаживает за животными уже 25 лет. Де...</td>\n",
       "      <td>0.80</td>\n",
       "      <td>https://knife.media/raccoon-whisperer/</td>\n",
       "      <td>2020</td>\n",
       "      <td>2020-11</td>\n",
       "      <td>2020-11-17</td>\n",
       "    </tr>\n",
       "    <tr>\n",
       "      <th>2</th>\n",
       "      <td>320899</td>\n",
       "      <td>1605604203</td>\n",
       "      <td>33</td>\n",
       "      <td>1</td>\n",
       "      <td>5</td>\n",
       "      <td>7926</td>\n",
       "      <td>Знаете, как добывали подноготную правду, зачем...</td>\n",
       "      <td>0.42</td>\n",
       "      <td>https://knife.media/origin-of-idioms/</td>\n",
       "      <td>2020</td>\n",
       "      <td>2020-11</td>\n",
       "      <td>2020-11-17</td>\n",
       "    </tr>\n",
       "    <tr>\n",
       "      <th>3</th>\n",
       "      <td>320894</td>\n",
       "      <td>1605600004</td>\n",
       "      <td>22</td>\n",
       "      <td>0</td>\n",
       "      <td>2</td>\n",
       "      <td>7755</td>\n",
       "      <td>От проектов, помогающих детям-сиротам, до IT-с...</td>\n",
       "      <td>0.28</td>\n",
       "      <td>https://knife.media/edu-projects/</td>\n",
       "      <td>2020</td>\n",
       "      <td>2020-11</td>\n",
       "      <td>2020-11-17</td>\n",
       "    </tr>\n",
       "    <tr>\n",
       "      <th>4</th>\n",
       "      <td>320828</td>\n",
       "      <td>1605546303</td>\n",
       "      <td>106</td>\n",
       "      <td>0</td>\n",
       "      <td>13</td>\n",
       "      <td>14448</td>\n",
       "      <td>Сказки братьев Гримм знают и любят и все, хотя...</td>\n",
       "      <td>0.73</td>\n",
       "      <td>https://knife.media/bratya-grimm/</td>\n",
       "      <td>2020</td>\n",
       "      <td>2020-11</td>\n",
       "      <td>2020-11-16</td>\n",
       "    </tr>\n",
       "  </tbody>\n",
       "</table>\n",
       "</div>"
      ],
      "text/plain": [
       "       id        time  likes  comments  reposts  views  \\\n",
       "0  320422  1605261747     51         8        1  17555   \n",
       "1  320900  1605604268     57         3        3   7159   \n",
       "2  320899  1605604203     33         1        5   7926   \n",
       "3  320894  1605600004     22         0        2   7755   \n",
       "4  320828  1605546303    106         0       13  14448   \n",
       "\n",
       "                                                text   ctr  \\\n",
       "0  «Нож» ищет новостника — быстрого, сообразитель...  0.29   \n",
       "1  Мужчина  ухаживает за животными уже 25 лет. Де...  0.80   \n",
       "2  Знаете, как добывали подноготную правду, зачем...  0.42   \n",
       "3  От проектов, помогающих детям-сиротам, до IT-с...  0.28   \n",
       "4  Сказки братьев Гримм знают и любят и все, хотя...  0.73   \n",
       "\n",
       "                                      url  year    month         day  \n",
       "0                    https://knf.md/news/  2020  2020-11  2020-11-13  \n",
       "1  https://knife.media/raccoon-whisperer/  2020  2020-11  2020-11-17  \n",
       "2   https://knife.media/origin-of-idioms/  2020  2020-11  2020-11-17  \n",
       "3       https://knife.media/edu-projects/  2020  2020-11  2020-11-17  \n",
       "4       https://knife.media/bratya-grimm/  2020  2020-11  2020-11-16  "
      ]
     },
     "execution_count": 11,
     "metadata": {},
     "output_type": "execute_result"
    }
   ],
   "source": [
    "df.head()"
   ]
  },
  {
   "cell_type": "code",
   "execution_count": 12,
   "metadata": {},
   "outputs": [],
   "source": [
    "filtered_df = df.query(\"url != 'false' and day >= '2018-01-01'\")"
   ]
  },
  {
   "cell_type": "code",
   "execution_count": 13,
   "metadata": {},
   "outputs": [
    {
     "data": {
      "text/plain": [
       "(7869, 12)"
      ]
     },
     "execution_count": 13,
     "metadata": {},
     "output_type": "execute_result"
    }
   ],
   "source": [
    "filtered_df.shape"
   ]
  },
  {
   "cell_type": "code",
   "execution_count": 14,
   "metadata": {},
   "outputs": [
    {
     "name": "stderr",
     "output_type": "stream",
     "text": [
      "/opt/tljh/user/lib/python3.7/site-packages/ipykernel_launcher.py:1: SettingWithCopyWarning: \n",
      "A value is trying to be set on a copy of a slice from a DataFrame.\n",
      "Try using .loc[row_indexer,col_indexer] = value instead\n",
      "\n",
      "See the caveats in the documentation: https://pandas.pydata.org/pandas-docs/stable/user_guide/indexing.html#returning-a-view-versus-a-copy\n",
      "  \"\"\"Entry point for launching an IPython kernel.\n"
     ]
    }
   ],
   "source": [
    "filtered_df['tags'] = filtered_df.url.apply(get_tags)"
   ]
  },
  {
   "cell_type": "code",
   "execution_count": 15,
   "metadata": {},
   "outputs": [
    {
     "data": {
      "text/plain": [
       "id            0\n",
       "time          0\n",
       "likes         0\n",
       "comments      0\n",
       "reposts       0\n",
       "views         0\n",
       "text          0\n",
       "ctr           0\n",
       "url           0\n",
       "year          0\n",
       "month         0\n",
       "day           0\n",
       "tags        243\n",
       "dtype: int64"
      ]
     },
     "execution_count": 15,
     "metadata": {},
     "output_type": "execute_result"
    }
   ],
   "source": [
    "filtered_df.isna().sum()"
   ]
  },
  {
   "cell_type": "code",
   "execution_count": 16,
   "metadata": {},
   "outputs": [
    {
     "name": "stderr",
     "output_type": "stream",
     "text": [
      "/opt/tljh/user/lib/python3.7/site-packages/ipykernel_launcher.py:1: SettingWithCopyWarning: \n",
      "A value is trying to be set on a copy of a slice from a DataFrame\n",
      "\n",
      "See the caveats in the documentation: https://pandas.pydata.org/pandas-docs/stable/user_guide/indexing.html#returning-a-view-versus-a-copy\n",
      "  \"\"\"Entry point for launching an IPython kernel.\n"
     ]
    }
   ],
   "source": [
    "filtered_df.dropna(inplace=True)"
   ]
  },
  {
   "cell_type": "code",
   "execution_count": 20,
   "metadata": {},
   "outputs": [],
   "source": [
    "filtered_df.to_csv('1_filtered_df.csv', index=False)"
   ]
  },
  {
   "cell_type": "code",
   "execution_count": null,
   "metadata": {},
   "outputs": [],
   "source": []
  },
  {
   "cell_type": "code",
   "execution_count": null,
   "metadata": {},
   "outputs": [],
   "source": []
  }
 ],
 "metadata": {
  "kernelspec": {
   "display_name": "Python 3",
   "language": "python",
   "name": "python3"
  },
  "language_info": {
   "codemirror_mode": {
    "name": "ipython",
    "version": 3
   },
   "file_extension": ".py",
   "mimetype": "text/x-python",
   "name": "python",
   "nbconvert_exporter": "python",
   "pygments_lexer": "ipython3",
   "version": "3.7.4"
  }
 },
 "nbformat": 4,
 "nbformat_minor": 4
}
