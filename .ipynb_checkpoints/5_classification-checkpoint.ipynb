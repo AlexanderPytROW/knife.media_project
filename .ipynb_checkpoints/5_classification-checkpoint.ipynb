{
 "cells": [
  {
   "cell_type": "code",
   "execution_count": 1,
   "metadata": {},
   "outputs": [],
   "source": [
    "import pandas as pd\n",
    "import numpy as np\n",
    "\n",
    "# import plotly.express as px"
   ]
  },
  {
   "cell_type": "code",
   "execution_count": 6,
   "metadata": {},
   "outputs": [],
   "source": [
    "df = pd.read_csv('4_for_classification.csv')"
   ]
  },
  {
   "cell_type": "code",
   "execution_count": 7,
   "metadata": {},
   "outputs": [
    {
     "data": {
      "text/html": [
       "<div>\n",
       "<style scoped>\n",
       "    .dataframe tbody tr th:only-of-type {\n",
       "        vertical-align: middle;\n",
       "    }\n",
       "\n",
       "    .dataframe tbody tr th {\n",
       "        vertical-align: top;\n",
       "    }\n",
       "\n",
       "    .dataframe thead th {\n",
       "        text-align: right;\n",
       "    }\n",
       "</style>\n",
       "<table border=\"1\" class=\"dataframe\">\n",
       "  <thead>\n",
       "    <tr style=\"text-align: right;\">\n",
       "      <th></th>\n",
       "      <th>id</th>\n",
       "      <th>ctr</th>\n",
       "      <th>url</th>\n",
       "      <th>text</th>\n",
       "      <th>text_lemm</th>\n",
       "      <th>tags_литература</th>\n",
       "      <th>tags_наука</th>\n",
       "      <th>tags_находка</th>\n",
       "      <th>tags_психология</th>\n",
       "      <th>tags_россия</th>\n",
       "    </tr>\n",
       "  </thead>\n",
       "  <tbody>\n",
       "    <tr>\n",
       "      <td>0</td>\n",
       "      <td>319586</td>\n",
       "      <td>0.44</td>\n",
       "      <td>https://knife.media/october-revolution/</td>\n",
       "      <td>Ровно года назад ноября года октября по старом...</td>\n",
       "      <td>ровно год назад ноябрь год октябрь  старый сти...</td>\n",
       "      <td>0</td>\n",
       "      <td>0</td>\n",
       "      <td>0</td>\n",
       "      <td>0</td>\n",
       "      <td>1</td>\n",
       "    </tr>\n",
       "    <tr>\n",
       "      <td>1</td>\n",
       "      <td>319544</td>\n",
       "      <td>1.35</td>\n",
       "      <td>https://knife.media/hedonic-adaptation/</td>\n",
       "      <td>Когда происходит что то хорошее мы старательно...</td>\n",
       "      <td>происходить   хороший  старательный прокручива...</td>\n",
       "      <td>0</td>\n",
       "      <td>1</td>\n",
       "      <td>0</td>\n",
       "      <td>0</td>\n",
       "      <td>0</td>\n",
       "    </tr>\n",
       "    <tr>\n",
       "      <td>2</td>\n",
       "      <td>319419</td>\n",
       "      <td>0.17</td>\n",
       "      <td>https://knife.media/maestro-ryba/</td>\n",
       "      <td>Евгений Маэстро Дмитерко недавно вспыхнувшая з...</td>\n",
       "      <td>евгений маэстро дмитерко недавно вспыхивать зв...</td>\n",
       "      <td>0</td>\n",
       "      <td>0</td>\n",
       "      <td>0</td>\n",
       "      <td>0</td>\n",
       "      <td>1</td>\n",
       "    </tr>\n",
       "    <tr>\n",
       "      <td>3</td>\n",
       "      <td>319395</td>\n",
       "      <td>1.45</td>\n",
       "      <td>https://knife.media/zhvanetsky-rip/</td>\n",
       "      <td>Умер писатель сатирик Михаил Жванецкий Ему был...</td>\n",
       "      <td>умирать писатель сатирик михаил жванецкий   го...</td>\n",
       "      <td>1</td>\n",
       "      <td>0</td>\n",
       "      <td>0</td>\n",
       "      <td>0</td>\n",
       "      <td>1</td>\n",
       "    </tr>\n",
       "    <tr>\n",
       "      <td>4</td>\n",
       "      <td>319368</td>\n",
       "      <td>0.27</td>\n",
       "      <td>https://knife.media/cancer-therapy-study/</td>\n",
       "      <td>Ученые Института молекулярной и клеточной биол...</td>\n",
       "      <td>ученый институт молекулярный  клеточный биолог...</td>\n",
       "      <td>0</td>\n",
       "      <td>1</td>\n",
       "      <td>0</td>\n",
       "      <td>0</td>\n",
       "      <td>1</td>\n",
       "    </tr>\n",
       "  </tbody>\n",
       "</table>\n",
       "</div>"
      ],
      "text/plain": [
       "       id   ctr                                        url  \\\n",
       "0  319586  0.44    https://knife.media/october-revolution/   \n",
       "1  319544  1.35    https://knife.media/hedonic-adaptation/   \n",
       "2  319419  0.17          https://knife.media/maestro-ryba/   \n",
       "3  319395  1.45        https://knife.media/zhvanetsky-rip/   \n",
       "4  319368  0.27  https://knife.media/cancer-therapy-study/   \n",
       "\n",
       "                                                text  \\\n",
       "0  Ровно года назад ноября года октября по старом...   \n",
       "1  Когда происходит что то хорошее мы старательно...   \n",
       "2  Евгений Маэстро Дмитерко недавно вспыхнувшая з...   \n",
       "3  Умер писатель сатирик Михаил Жванецкий Ему был...   \n",
       "4  Ученые Института молекулярной и клеточной биол...   \n",
       "\n",
       "                                           text_lemm  tags_литература  \\\n",
       "0  ровно год назад ноябрь год октябрь  старый сти...                0   \n",
       "1  происходить   хороший  старательный прокручива...                0   \n",
       "2  евгений маэстро дмитерко недавно вспыхивать зв...                0   \n",
       "3  умирать писатель сатирик михаил жванецкий   го...                1   \n",
       "4  ученый институт молекулярный  клеточный биолог...                0   \n",
       "\n",
       "   tags_наука  tags_находка  tags_психология  tags_россия  \n",
       "0           0             0                0            1  \n",
       "1           1             0                0            0  \n",
       "2           0             0                0            1  \n",
       "3           0             0                0            1  \n",
       "4           1             0                0            1  "
      ]
     },
     "execution_count": 7,
     "metadata": {},
     "output_type": "execute_result"
    }
   ],
   "source": [
    "df.head()"
   ]
  },
  {
   "cell_type": "code",
   "execution_count": 4,
   "metadata": {},
   "outputs": [
    {
     "data": {
      "text/plain": [
       "(4241, 10)"
      ]
     },
     "execution_count": 4,
     "metadata": {},
     "output_type": "execute_result"
    }
   ],
   "source": [
    "df.shape"
   ]
  },
  {
   "cell_type": "code",
   "execution_count": null,
   "metadata": {},
   "outputs": [],
   "source": [
    "my_tags = ['no', 'yes']"
   ]
  },
  {
   "cell_type": "markdown",
   "metadata": {},
   "source": [
    "### Классификация tags_литература"
   ]
  },
  {
   "cell_type": "code",
   "execution_count": null,
   "metadata": {},
   "outputs": [],
   "source": [
    "X = df['text_lemm']\n",
    "y = df['tags_литература']"
   ]
  },
  {
   "cell_type": "code",
   "execution_count": null,
   "metadata": {},
   "outputs": [],
   "source": [
    "from sklearn.model_selection import train_test_split\n",
    "X_train, X_test, y_train, y_test = train_test_split(X, y, test_size=0.3, random_state = 42)"
   ]
  },
  {
   "cell_type": "code",
   "execution_count": null,
   "metadata": {},
   "outputs": [],
   "source": [
    "y_test.sum()"
   ]
  },
  {
   "cell_type": "code",
   "execution_count": null,
   "metadata": {},
   "outputs": [],
   "source": [
    "y_test.shape"
   ]
  },
  {
   "cell_type": "code",
   "execution_count": null,
   "metadata": {
    "scrolled": true
   },
   "outputs": [],
   "source": [
    "print(np.linspace(0.1, 1000, num=20))"
   ]
  },
  {
   "cell_type": "code",
   "execution_count": null,
   "metadata": {},
   "outputs": [],
   "source": [
    "print(np.logspace(-1, 3, num=20))"
   ]
  },
  {
   "cell_type": "markdown",
   "metadata": {},
   "source": [
    "#### Logistic Regression"
   ]
  },
  {
   "cell_type": "code",
   "execution_count": null,
   "metadata": {},
   "outputs": [],
   "source": [
    "from sklearn.linear_model import LogisticRegression, LogisticRegressionCV\n",
    "from sklearn.pipeline import Pipeline\n",
    "from sklearn.feature_extraction.text import TfidfTransformer\n",
    "from sklearn.feature_extraction.text import CountVectorizer"
   ]
  },
  {
   "cell_type": "code",
   "execution_count": null,
   "metadata": {},
   "outputs": [],
   "source": [
    "from sklearn.model_selection import GridSearchCV"
   ]
  },
  {
   "cell_type": "code",
   "execution_count": null,
   "metadata": {},
   "outputs": [],
   "source": [
    "'''model = LogisticRegression(\n",
    "    # метод для поиска решенияю; для небольших датасетов лучше подходят варианты:\n",
    "    # newton-cg, lbfgs, liblinear, sag, saga\n",
    "    solver='newton-cg',\n",
    "    # норма для регуляризации. Варианты: l2 - сумма квадратов коэффициентов, l1 - сумма модулей\n",
    "    penalty='l2',\n",
    "    # параметр регуляризации. Чем меньше, тем она сильнее\n",
    "        # чем больше параметр , тем более сложные зависимости в данных может восстанавливать модель \n",
    "        # (интуитивно  соответствует \"сложности\" модели (model capacity))\n",
    "        # сильная регуляризация (маленький С) - модель недообучена, наоборот - переобучена\n",
    "        # С – это гиперпараметр модели, который настраивается на кросс-валидации, как и max_depth для дерева.\n",
    "    C=1e5,\n",
    "    # параметр для остановки поиска решения\n",
    "    tol=1e-4,\n",
    "    # т.к. распознаётся 2 класса\n",
    "    multi_class='ovr',\n",
    "    n_jobs=1\n",
    "    )'''\n",
    "pipe = Pipeline([('vect', CountVectorizer()),\n",
    "                ('tfidf', TfidfTransformer()),\n",
    "                ('clf', LogisticRegression(class_weight='balanced', multi_class='ovr')),\n",
    "               ])"
   ]
  },
  {
   "cell_type": "code",
   "execution_count": null,
   "metadata": {},
   "outputs": [],
   "source": [
    "'''Если в нашем распоряжении есть множество ядер процессора, мы можем запустить grid search,\n",
    "чтобы попробовать все комбинации параметров параллельно с параметром n_jobs.\n",
    "Если мы зададим этому параметру значение -1, grid search определит, как много ядер установлено, и задействует их все'''\n",
    "\n",
    "parametrs = {'clf__solver': ['saga', 'liblinear', 'sag', 'lbfgs'],\n",
    "             'clf__penalty': ['l1', 'l2'],\n",
    "             'clf__C': np.logspace(-1,4,15)}\n",
    "\n",
    "grid_search_cv_clf = GridSearchCV(pipe, parametrs, cv=5, n_jobs=-1)\n",
    "\n",
    "grid_search_cv_clf.fit(X_train, y_train)"
   ]
  },
  {
   "cell_type": "code",
   "execution_count": null,
   "metadata": {},
   "outputs": [],
   "source": [
    "grid_search_cv_clf.best_params_"
   ]
  },
  {
   "cell_type": "code",
   "execution_count": null,
   "metadata": {},
   "outputs": [],
   "source": [
    "logreg_lit = grid_search_cv_clf.best_estimator_"
   ]
  },
  {
   "cell_type": "code",
   "execution_count": null,
   "metadata": {},
   "outputs": [],
   "source": [
    "y_pred = logreg_lit.predict(X_test)"
   ]
  },
  {
   "cell_type": "code",
   "execution_count": null,
   "metadata": {},
   "outputs": [],
   "source": []
  },
  {
   "cell_type": "code",
   "execution_count": null,
   "metadata": {},
   "outputs": [],
   "source": [
    "y_predicted_prob = logreg_lit.predict_proba(X_test)"
   ]
  },
  {
   "cell_type": "code",
   "execution_count": null,
   "metadata": {},
   "outputs": [],
   "source": [
    "y_predicted_prob_1 =y_predicted_prob[:,1]"
   ]
  },
  {
   "cell_type": "code",
   "execution_count": null,
   "metadata": {},
   "outputs": [],
   "source": [
    "from sklearn.metrics import classification_report\n",
    "from sklearn.metrics import accuracy_score, confusion_matrix"
   ]
  },
  {
   "cell_type": "code",
   "execution_count": null,
   "metadata": {},
   "outputs": [],
   "source": [
    "pd.Series(y_predicted_prob_1).hist()"
   ]
  },
  {
   "cell_type": "code",
   "execution_count": null,
   "metadata": {},
   "outputs": [],
   "source": [
    "thr = pd.Series(y_predicted_prob_1).sort_values(ascending=False).iloc[211]"
   ]
  },
  {
   "cell_type": "code",
   "execution_count": null,
   "metadata": {},
   "outputs": [],
   "source": [
    "y_pred = np.where(y_predicted_prob[:,1] > thr, 1, 0) "
   ]
  },
  {
   "cell_type": "code",
   "execution_count": null,
   "metadata": {},
   "outputs": [],
   "source": []
  },
  {
   "cell_type": "code",
   "execution_count": null,
   "metadata": {},
   "outputs": [],
   "source": [
    "print(classification_report(y_test, y_pred, target_names=my_tags))"
   ]
  },
  {
   "cell_type": "markdown",
   "metadata": {},
   "source": [
    "- accuracy - доля правильных ответов; обманывает, если выборки несбалансированы\n",
    "- precision(точность) - доля правильно распознанных \"1\" из всех распознанных, как \"1\": precision = TP / (TP + FP)\n",
    "    высокий presision нужен там, где нужно мало ложных целей (FP) из распознанных, как \"1\", там где нельзя ошибаться\n",
    "- recall(полнота)- доля правильно распознанных \"1\" из всех \"1\": recall = TP / (TP + FN)\n",
    "    высокий recall нужен там, где нужно мало пропусков целей (FN) из всех \"1\" (определение негативных отзывов, рекоммендации на сайте знакомств...), там где главная задача опознать всё"
   ]
  },
  {
   "cell_type": "code",
   "execution_count": null,
   "metadata": {},
   "outputs": [],
   "source": [
    "print(confusion_matrix(y_test, y_pred))"
   ]
  },
  {
   "cell_type": "markdown",
   "metadata": {},
   "source": [
    "              predicted\n",
    "                 0   1\n",
    "     actual   0 [TN, FP\n",
    "              1  FN, TP]\n",
    "FP - неверное предположение, что наблюдение относится к классу 1 (ложная цель), \n",
    "FN - неверное предположение, что наблюдение к классу 1 не относится (пропуск цели)"
   ]
  },
  {
   "cell_type": "markdown",
   "metadata": {},
   "source": [
    "##### ROC-кривая\n",
    "- False Positive Rate (по горизонтальной оси):\n",
    "    FPR = FP / (FP + TN)\n",
    "- True Positive Rate (по вертикальной оси):\n",
    "    TPR = recall = TP / (TP + FN)\n",
    "    \n",
    "    КАК выбрать пороговое значение? По умолчанию - 0,5; Предлагается пробежаться по всем пороговым значениям. При этом, чем меньше порог, тем выше recall(TPR), но и больше ложных целей. Точки на ROC-кривой - это пороговое значение. Оптимальное пороговое значение - это та точка, где прямая под углом 45 градусов касается кривой (когда выборка сбалансирована, 0 и 1 одинаковое количество).\n",
    "    \n",
    "    С другой стороны с помощью ROC-кривых можно сравнивать классификаторы, чья кривая выше, тот классификатор лучше, чем больше площадь под кривой AUC, тем классификатор лучше"
   ]
  },
  {
   "cell_type": "code",
   "execution_count": null,
   "metadata": {},
   "outputs": [],
   "source": []
  },
  {
   "cell_type": "code",
   "execution_count": null,
   "metadata": {},
   "outputs": [],
   "source": [
    "from sklearn.metrics import roc_curve, auc\n",
    "import matplotlib.pyplot as plt\n",
    "import seaborn as sns\n",
    "from sklearn.datasets import make_classification"
   ]
  },
  {
   "cell_type": "code",
   "execution_count": null,
   "metadata": {},
   "outputs": [],
   "source": [
    "\n",
    "fpr, tpr, threshold = roc_curve(y_test, y_predicted_prob[:,1])\n",
    "roc_auc = auc(fpr, tpr)\n",
    "\n",
    "plt.title('Receiver operating characteristic example')\n",
    "plt.plot(fpr, tpr, color='darkorange', label='ROC curve (area = %0.2f)' % roc_auc)\n",
    "plt.legend(loc=\"lower right\")\n",
    "plt.plot([0, 1], [0, 1], color='navy', linestyle='--')\n",
    "plt.xlim([0.0, 1.0])\n",
    "plt.ylim([0.0, 1.05])\n",
    "plt.xlabel('False Positive Rate')\n",
    "plt.ylabel('True Positive Rate')\n",
    "plt.show()"
   ]
  },
  {
   "cell_type": "code",
   "execution_count": null,
   "metadata": {},
   "outputs": [],
   "source": [
    "\n",
    "fpr, tpr, thresholds = roc_curve(y_test, y_predicted_prob[:,1])\n",
    "\n",
    "# The histogram of scores compared to true labels\n",
    "fig_hist = px.histogram(\n",
    "    x=y_predicted_prob[:,1], color=y_test, nbins=50,\n",
    "    labels=dict(color='True Labels', x='Score'))\n",
    "\n",
    "\n",
    "fig_hist.show()"
   ]
  },
  {
   "cell_type": "code",
   "execution_count": null,
   "metadata": {},
   "outputs": [],
   "source": [
    "# y_score = model.predict_proba(X)[:, 1]\n",
    "from sklearn.metrics import roc_curve, auc\n",
    "fpr, tpr, thresholds = roc_curve(y_test, y_predicted_prob[:,1])\n",
    "fig = px.area(\n",
    "    x=fpr, y=tpr,\n",
    "    title=f'ROC Curve (AUC={auc(fpr, tpr):.3f})',\n",
    "    labels=dict(x='False Positive Rate', y='True Positive Rate'),\n",
    "    width=700, height=500\n",
    ")\n",
    "fig.add_shape(\n",
    "    type='line', line=dict(dash='dash'),\n",
    "    x0=0, x1=1, y0=0, y1=1\n",
    ")\n",
    "\n",
    "fig.update_yaxes(scaleanchor=\"x\", scaleratio=1)\n",
    "fig.update_xaxes(constrain='domain')\n",
    "fig.show()"
   ]
  },
  {
   "cell_type": "code",
   "execution_count": null,
   "metadata": {},
   "outputs": [],
   "source": [
    "from sklearn.metrics import precision_recall_curve, auc\n",
    "\n",
    "precision, recall, thresholds = precision_recall_curve(y_test, y_predicted_prob[:,1])\n",
    "\n",
    "fig = px.area(\n",
    "    x=recall, y=precision,\n",
    "    title=f'Precision-Recall Curve (AUC={auc(fpr, tpr):.4f})',\n",
    "    labels=dict(x='Recall', y='Precision'),\n",
    "    width=700, height=500\n",
    ")\n",
    "fig.add_shape(\n",
    "    type='line', line=dict(dash='dash'),\n",
    "    x0=0, x1=1, y0=1, y1=0\n",
    ")\n",
    "fig.update_yaxes(scaleanchor=\"x\", scaleratio=1)\n",
    "fig.update_xaxes(constrain='domain')\n",
    "\n",
    "fig.show()"
   ]
  },
  {
   "cell_type": "code",
   "execution_count": null,
   "metadata": {},
   "outputs": [],
   "source": [
    "# Evaluating model performance at various thresholds\n",
    "fpr, tpr, thresholds = roc_curve(y_test, y_predicted_prob[:,1])\n",
    "\n",
    "dataf = pd.DataFrame({\n",
    "    'False Positive Rate': fpr,\n",
    "    'True Positive Rate': tpr\n",
    "}, index=thresholds)\n",
    "dataf.index.name = \"Thresholds\"\n",
    "dataf.columns.name = \"Rate\"\n",
    "\n",
    "fig_thresh = px.line(\n",
    "    dataf, title='TPR and FPR at every threshold',\n",
    "    width=700, height=500\n",
    ")\n",
    "\n",
    "fig_thresh.update_yaxes(scaleanchor=\"x\", scaleratio=1)\n",
    "fig_thresh.update_xaxes(range=[0, 1], constrain='domain')\n",
    "fig_thresh.show()"
   ]
  },
  {
   "cell_type": "markdown",
   "metadata": {},
   "source": [
    "### Классификация tags_наука"
   ]
  },
  {
   "cell_type": "markdown",
   "metadata": {},
   "source": [
    "#### Logistic Regression"
   ]
  },
  {
   "cell_type": "code",
   "execution_count": null,
   "metadata": {},
   "outputs": [],
   "source": [
    "X = df['text_lemm']\n",
    "y = df['tags_наука']\n",
    "\n",
    "X_train, X_test, y_train, y_test = train_test_split(X, y, test_size=0.3, random_state = 42)\n",
    "\n",
    "y_test.sum()"
   ]
  },
  {
   "cell_type": "code",
   "execution_count": null,
   "metadata": {},
   "outputs": [],
   "source": [
    "pipe = Pipeline([('vect', CountVectorizer()),\n",
    "                ('tfidf', TfidfTransformer()),\n",
    "                ('clf', LogisticRegression(class_weight='balanced')),\n",
    "               ])\n",
    "\n",
    "parametrs = {'clf__solver': ['liblinear', 'sag', 'lbfgs', 'newton-cg', 'saga'],\n",
    "             'clf__penalty': ['l1', 'l2'],\n",
    "             'clf__C': np.logspace(-3,3,7)}\n",
    "\n",
    "grid_search_cv_clf = GridSearchCV(pipe, parametrs, cv=5, n_jobs=-1)\n",
    "\n",
    "grid_search_cv_clf.fit(X_train, y_train)"
   ]
  },
  {
   "cell_type": "code",
   "execution_count": null,
   "metadata": {},
   "outputs": [],
   "source": [
    "grid_search_cv_clf.best_params_"
   ]
  },
  {
   "cell_type": "code",
   "execution_count": null,
   "metadata": {},
   "outputs": [],
   "source": [
    "logreg_sci = grid_search_cv_clf.best_estimator_"
   ]
  },
  {
   "cell_type": "code",
   "execution_count": null,
   "metadata": {},
   "outputs": [],
   "source": [
    "y_pred = logreg_sci.predict(X_test)"
   ]
  },
  {
   "cell_type": "code",
   "execution_count": null,
   "metadata": {},
   "outputs": [],
   "source": [
    "y_predicted_prob = logreg_sci.predict_proba(X_test)\n",
    "y_predicted_prob_1 =y_predicted_prob[:,1]\n",
    "pd.Series(y_predicted_prob_1).hist() "
   ]
  },
  {
   "cell_type": "code",
   "execution_count": null,
   "metadata": {},
   "outputs": [],
   "source": [
    "# thr = pd.Series(y_predicted_prob_1).sort_values(ascending=False).iloc[255]\n",
    "y_pred = np.where(y_predicted_prob[:,1] > 0.48, 1, 0)"
   ]
  },
  {
   "cell_type": "code",
   "execution_count": null,
   "metadata": {},
   "outputs": [],
   "source": []
  },
  {
   "cell_type": "code",
   "execution_count": null,
   "metadata": {},
   "outputs": [],
   "source": []
  },
  {
   "cell_type": "code",
   "execution_count": null,
   "metadata": {},
   "outputs": [],
   "source": [
    "print(classification_report(y_test, y_pred, target_names=my_tags))"
   ]
  },
  {
   "cell_type": "code",
   "execution_count": null,
   "metadata": {},
   "outputs": [],
   "source": [
    "print(confusion_matrix(y_test, y_pred))"
   ]
  },
  {
   "cell_type": "code",
   "execution_count": null,
   "metadata": {},
   "outputs": [],
   "source": [
    "pred_prob = logreg_sci.predict_proba(X_test)\n",
    "\n",
    "from sklearn.metrics import roc_curve, auc\n",
    "import matplotlib.pyplot as plt\n",
    "import seaborn as sns\n",
    "from sklearn.datasets import make_classification\n",
    "\n",
    "preds = pred_prob[:, 1]\n",
    "fpr, tpr, threshold = roc_curve(y_test, preds)\n",
    "roc_auc = auc(fpr, tpr)\n",
    "\n",
    "plt.title('Receiver operating characteristic example')\n",
    "plt.plot(fpr, tpr, color='darkorange', label='ROC curve (area = %0.2f)' % roc_auc)\n",
    "plt.legend(loc=\"lower right\")\n",
    "plt.plot([0, 1], [0, 1], color='navy', linestyle='--')\n",
    "plt.xlim([0.0, 1.0])\n",
    "plt.ylim([0.0, 1.05])\n",
    "plt.xlabel('False Positive Rate')\n",
    "plt.ylabel('True Positive Rate')\n",
    "plt.show()"
   ]
  },
  {
   "cell_type": "markdown",
   "metadata": {},
   "source": [
    "### Классификация tags_находка\n",
    "\n",
    "#### Logistic Regression"
   ]
  },
  {
   "cell_type": "code",
   "execution_count": null,
   "metadata": {},
   "outputs": [],
   "source": [
    "X = df['text_lemm']\n",
    "y = df['tags_находка']\n",
    "\n",
    "X_train, X_test, y_train, y_test = train_test_split(X, y, test_size=0.3, random_state = 42)\n",
    "\n",
    "y_test.sum()"
   ]
  },
  {
   "cell_type": "code",
   "execution_count": null,
   "metadata": {},
   "outputs": [],
   "source": [
    "pipe = Pipeline([('vect', CountVectorizer()),\n",
    "                ('tfidf', TfidfTransformer()),\n",
    "                ('clf', LogisticRegression()),\n",
    "               ])"
   ]
  },
  {
   "cell_type": "code",
   "execution_count": null,
   "metadata": {},
   "outputs": [],
   "source": [
    "parametrs = {'clf__solver': ['liblinear', 'sag', 'lbfgs', 'newton-cg', 'saga'],\n",
    "             'clf__penalty': ['l1', 'l2'],\n",
    "             'clf__C': np.logspace(-3,3,7)}"
   ]
  },
  {
   "cell_type": "code",
   "execution_count": null,
   "metadata": {},
   "outputs": [],
   "source": [
    "grid_search_cv_clf = GridSearchCV(pipe, parametrs, cv=5, n_jobs=-1)"
   ]
  },
  {
   "cell_type": "code",
   "execution_count": null,
   "metadata": {
    "scrolled": true
   },
   "outputs": [],
   "source": [
    "grid_search_cv_clf.fit(X_train, y_train)"
   ]
  },
  {
   "cell_type": "code",
   "execution_count": null,
   "metadata": {},
   "outputs": [],
   "source": [
    "grid_search_cv_clf.best_params_"
   ]
  },
  {
   "cell_type": "code",
   "execution_count": null,
   "metadata": {},
   "outputs": [],
   "source": [
    "logreg_find = grid_search_cv_clf.best_estimator_"
   ]
  },
  {
   "cell_type": "code",
   "execution_count": null,
   "metadata": {},
   "outputs": [],
   "source": [
    "y_pred = logreg_find.predict(X_test)"
   ]
  },
  {
   "cell_type": "code",
   "execution_count": null,
   "metadata": {
    "scrolled": true
   },
   "outputs": [],
   "source": [
    "print(classification_report(y_test, y_pred, target_names=my_tags))\n",
    "print(confusion_matrix(y_test, y_pred))"
   ]
  },
  {
   "cell_type": "code",
   "execution_count": null,
   "metadata": {},
   "outputs": [],
   "source": [
    "pred_prob = logreg_find.predict_proba(X_test)\n",
    "\n",
    "from sklearn.metrics import roc_curve, auc\n",
    "import matplotlib.pyplot as plt\n",
    "import seaborn as sns\n",
    "from sklearn.datasets import make_classification\n",
    "\n",
    "preds = pred_prob[:, 1]\n",
    "fpr, tpr, threshold = roc_curve(y_test, preds)\n",
    "roc_auc = auc(fpr, tpr)\n",
    "\n",
    "plt.title('Receiver operating characteristic example')\n",
    "plt.plot(fpr, tpr, color='darkorange', label='ROC curve (area = %0.2f)' % roc_auc)\n",
    "plt.legend(loc=\"lower right\")\n",
    "plt.plot([0, 1], [0, 1], color='navy', linestyle='--')\n",
    "plt.xlim([0.0, 1.0])\n",
    "plt.ylim([0.0, 1.05])\n",
    "plt.xlabel('False Positive Rate')\n",
    "plt.ylabel('True Positive Rate')\n",
    "plt.show()"
   ]
  },
  {
   "cell_type": "markdown",
   "metadata": {},
   "source": [
    "### Классификация tags_психология\n",
    "\n",
    "#### Logistic Regression"
   ]
  },
  {
   "cell_type": "code",
   "execution_count": null,
   "metadata": {},
   "outputs": [],
   "source": [
    "X = df['text_lemm']\n",
    "y = df['tags_психология']\n",
    "\n",
    "X_train, X_test, y_train, y_test = train_test_split(X, y, test_size=0.3, random_state = 42)\n",
    "\n",
    "y_test.sum()"
   ]
  },
  {
   "cell_type": "code",
   "execution_count": null,
   "metadata": {},
   "outputs": [],
   "source": [
    "pipe = Pipeline([('vect', CountVectorizer()),\n",
    "                ('tfidf', TfidfTransformer()),\n",
    "                ('clf', LogisticRegression()),\n",
    "               ])\n",
    "\n",
    "parametrs = {'clf__solver': ['liblinear', 'sag', 'lbfgs', 'newton-cg', 'saga'],\n",
    "             'clf__penalty': ['l1', 'l2'],\n",
    "             'clf__C': np.logspace(-3,3,7)}\n",
    "\n",
    "grid_search_cv_clf = GridSearchCV(pipe, parametrs, cv=5, n_jobs=-1)\n",
    "\n",
    "grid_search_cv_clf.fit(X_train, y_train)\n",
    "\n",
    "grid_search_cv_clf.best_params_\n",
    "\n",
    "logreg_psy = grid_search_cv_clf.best_estimator_"
   ]
  },
  {
   "cell_type": "code",
   "execution_count": null,
   "metadata": {},
   "outputs": [],
   "source": [
    "grid_search_cv_clf.best_params_"
   ]
  },
  {
   "cell_type": "code",
   "execution_count": null,
   "metadata": {
    "scrolled": true
   },
   "outputs": [],
   "source": [
    "y_pred = logreg_psy.predict(X_test)\n",
    "\n",
    "print(classification_report(y_test, y_pred, target_names=my_tags))\n",
    "print(confusion_matrix(y_test, y_pred))"
   ]
  },
  {
   "cell_type": "code",
   "execution_count": null,
   "metadata": {},
   "outputs": [],
   "source": [
    "pred_prob = logreg_psy.predict_proba(X_test)\n",
    "\n",
    "from sklearn.metrics import roc_curve, auc\n",
    "import matplotlib.pyplot as plt\n",
    "import seaborn as sns\n",
    "from sklearn.datasets import make_classification\n",
    "\n",
    "preds = pred_prob[:, 1]\n",
    "fpr, tpr, threshold = roc_curve(y_test, preds)\n",
    "roc_auc = auc(fpr, tpr)\n",
    "\n",
    "plt.title('Receiver operating characteristic example')\n",
    "plt.plot(fpr, tpr, color='darkorange', label='ROC curve (area = %0.2f)' % roc_auc)\n",
    "plt.legend(loc=\"lower right\")\n",
    "plt.plot([0, 1], [0, 1], color='navy', linestyle='--')\n",
    "plt.xlim([0.0, 1.0])\n",
    "plt.ylim([0.0, 1.05])\n",
    "plt.xlabel('False Positive Rate')\n",
    "plt.ylabel('True Positive Rate')\n",
    "plt.show()"
   ]
  },
  {
   "cell_type": "markdown",
   "metadata": {},
   "source": [
    "### Классификация tags_россия\n",
    "\n",
    "#### Logistic Regression"
   ]
  },
  {
   "cell_type": "code",
   "execution_count": null,
   "metadata": {},
   "outputs": [],
   "source": [
    "X = df['text_lemm']\n",
    "y = df['tags_россия']\n",
    "\n",
    "X_train, X_test, y_train, y_test = train_test_split(X, y, test_size=0.3, random_state = 42)\n",
    "\n",
    "y_test.sum()"
   ]
  },
  {
   "cell_type": "code",
   "execution_count": null,
   "metadata": {},
   "outputs": [],
   "source": [
    "pipe = Pipeline([('vect', CountVectorizer()),\n",
    "                ('tfidf', TfidfTransformer()),\n",
    "                ('clf', LogisticRegression()),\n",
    "               ])\n",
    "\n",
    "parametrs = {'clf__solver': ['liblinear', 'sag', 'lbfgs', 'newton-cg', 'saga'],\n",
    "             'clf__penalty': ['l1', 'l2'],\n",
    "             'clf__C': np.logspace(-3,3,7)}\n",
    "\n",
    "grid_search_cv_clf = GridSearchCV(pipe, parametrs, cv=5, n_jobs=-1)\n",
    "\n",
    "grid_search_cv_clf.fit(X_train, y_train)\n",
    "\n",
    "grid_search_cv_clf.best_params_\n",
    "\n",
    "logreg_russia = grid_search_cv_clf.best_estimator_"
   ]
  },
  {
   "cell_type": "code",
   "execution_count": null,
   "metadata": {},
   "outputs": [],
   "source": [
    "y_pred = logreg_russia.predict(X_test)\n",
    "\n",
    "print(classification_report(y_test, y_pred, target_names=my_tags))\n",
    "print(confusion_matrix(y_test, y_pred))"
   ]
  },
  {
   "cell_type": "code",
   "execution_count": null,
   "metadata": {},
   "outputs": [],
   "source": [
    "pred_prob = logreg_russia.predict_proba(X_test)\n",
    "\n",
    "from sklearn.metrics import roc_curve, auc\n",
    "import matplotlib.pyplot as plt\n",
    "import seaborn as sns\n",
    "from sklearn.datasets import make_classification\n",
    "\n",
    "preds = pred_prob[:, 1]\n",
    "fpr, tpr, threshold = roc_curve(y_test, preds)\n",
    "roc_auc = auc(fpr, tpr)\n",
    "\n",
    "plt.title('Receiver operating characteristic example')\n",
    "plt.plot(fpr, tpr, color='darkorange', label='ROC curve (area = %0.2f)' % roc_auc)\n",
    "plt.legend(loc=\"lower right\")\n",
    "plt.plot([0, 1], [0, 1], color='navy', linestyle='--')\n",
    "plt.xlim([0.0, 1.0])\n",
    "plt.ylim([0.0, 1.05])\n",
    "plt.xlabel('False Positive Rate')\n",
    "plt.ylabel('True Positive Rate')\n",
    "plt.show()"
   ]
  },
  {
   "cell_type": "code",
   "execution_count": null,
   "metadata": {},
   "outputs": [],
   "source": []
  },
  {
   "cell_type": "code",
   "execution_count": null,
   "metadata": {},
   "outputs": [],
   "source": []
  },
  {
   "cell_type": "code",
   "execution_count": null,
   "metadata": {},
   "outputs": [],
   "source": [
    "text = 'То что Роман Михайлов один из самых интересных современных русских писателей можно считать уже практически общепризнанным и его новая книга Антиравинагар вышедшая на днях в издательстве лишнее тому подтверждение Сам Михайлов на сегодняшний день считает это произведение своим пока шла подготовка издания он успел поставить по нему в БДТ одноименный радиоспектакль а также обычный точнее необычный спектакль Несолнечный город Сказать о чем эта книга довольно непросто Роман настолько далек от всех литературных традиций настоящего и прошлого что ему пришлось придумать собственную литературу работающую по правилам которые хорошо понимает только он сам что впрочем нисколько не мешает его все более многочисленным читателям Согласно определению автора Антиравинагар это трактат о памяти и ритуалах Он состоит из зыбких сложным образом перекликающихся друг с другом историй что не мешает им оставаться в первую очередь историями которые интересно читать В числе действующих лиц колдуны бандиты и птицы а само действие происходит в некоем призрачном мире готовом каждую секунду рассыпаться на части и собраться заново Смело рекомендуем эту книгу всем а особенно тем кто устал от однообразия современной словесности и не боится что чего то не поймет Не понимать это нормально Сейчас книгу можно приобрести за рублей в Фаланстере или заказать на сайте питерского магазина Подписные издания Роман Михайлов на Ноже Обсуждение боя Конора против Хабиба с Йоэлем Регевым Интервью гадание с Романом Михайловым Обсуждение фильма Маски который снимает Роман Михайлов Магия склейки изнанки памяти краткий путеводитель по книгам Романа Михайлова'"
   ]
  },
  {
   "cell_type": "code",
   "execution_count": null,
   "metadata": {},
   "outputs": [],
   "source": [
    "df_test = pd.DataFrame(pd.Series(text), columns=['text'])"
   ]
  },
  {
   "cell_type": "code",
   "execution_count": null,
   "metadata": {},
   "outputs": [],
   "source": [
    "df_test"
   ]
  },
  {
   "cell_type": "code",
   "execution_count": null,
   "metadata": {},
   "outputs": [],
   "source": [
    "df_test['tags_литература'] = logreg_lit.predict_proba(df_test.text)[:,1].round(3) * 100\n",
    "df_test['tags_наука'] = logreg_sci.predict_proba(df_test.text)[:,1].round(3) * 100\n",
    "df_test['tags_находка'] = logreg_find.predict_proba(df_test.text)[:,1].round(3) * 100\n",
    "df_test['tags_психология'] = logreg_psy.predict_proba(df_test.text)[:,1].round(3) * 100\n",
    "df_test['tags_россия'] = logreg_russia.predict_proba(df_test.text)[:,1].round(3) * 100"
   ]
  },
  {
   "cell_type": "code",
   "execution_count": null,
   "metadata": {},
   "outputs": [],
   "source": [
    "df_test"
   ]
  }
 ],
 "metadata": {
  "kernelspec": {
   "display_name": "Python 3",
   "language": "python",
   "name": "python3"
  },
  "language_info": {
   "codemirror_mode": {
    "name": "ipython",
    "version": 3
   },
   "file_extension": ".py",
   "mimetype": "text/x-python",
   "name": "python",
   "nbconvert_exporter": "python",
   "pygments_lexer": "ipython3",
   "version": "3.7.4"
  }
 },
 "nbformat": 4,
 "nbformat_minor": 4
}
