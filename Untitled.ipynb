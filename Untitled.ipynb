{
 "cells": [
  {
   "cell_type": "code",
   "execution_count": null,
   "metadata": {},
   "outputs": [],
   "source": [
    "import pandas as pd\n",
    "import re"
   ]
  },
  {
   "cell_type": "code",
   "execution_count": 1,
   "metadata": {},
   "outputs": [],
   "source": [
    "# функция парсинга текста\n",
    "def text_parser(url):\n",
    "    try:\n",
    "        html = urlopen(url).read().decode('utf-8')\n",
    "        # возможно, сделать шаблон более общим\n",
    "        pattern_2 = r'.+\"text\":\"(.+)\"}</script>'\n",
    "        text = re.findall(pattern_2, html)[0].replace(u'\\xa0', ' ')\n",
    "    except:\n",
    "        text = ''\n",
    "    return text"
   ]
  },
  {
   "cell_type": "code",
   "execution_count": null,
   "metadata": {},
   "outputs": [],
   "source": [
    "def cleaner_text(link):\n",
    "    text = text_parser(link)\n",
    "    text = re.sub(r'[._^%$#!~@,-«»]+', ' ', text)\n",
    "    text = re.sub('[^а-яА-Я ]', '', text)\n",
    "    text = re.sub(r'\\s+', ' ', text)\n",
    "    return text.lower()\n",
    "# на выходе получаем русский текст без знаков препинания в нижнем регистре"
   ]
  },
  {
   "cell_type": "code",
   "execution_count": null,
   "metadata": {},
   "outputs": [],
   "source": []
  },
  {
   "cell_type": "code",
   "execution_count": null,
   "metadata": {},
   "outputs": [],
   "source": [
    "tags_list = ['находка', 'литература', 'психология', 'наука', 'россия']\n",
    "\n",
    "df_for_classification = explode_tags.query(\"tags in @ tags_list\")\n",
    "\n",
    "df_for_classification.head()\n",
    "\n",
    "df_for_classification.shape\n",
    "\n",
    "df_for_classification.id.nunique()\n",
    "\n",
    "df_for_classification_target = pd.get_dummies(df_for_classification[['id', 'tags']]).groupby('id', as_index=False).sum()\n",
    "\n",
    "df_for_classification_target.head()\n",
    "\n",
    "df_for_classification_target.sum()\n",
    "\n",
    "df_for_classification_target.shape\n",
    "\n",
    "df_for_classification_target.to_csv('tags_for_fit.csv', index=False)\n",
    "\n",
    "df_for_classification_feature = filtered_df.query(\"id in @df_for_classification_target.id\")[['id', 'ctr', 'url']]\n",
    "\n",
    "df_for_classification_feature.head()\n",
    "\n",
    "df_for_classification_feature.shape\n",
    "\n",
    "df_for_classification_feature['text'] = df_for_classification_feature.url.apply(cleaner_text)\n",
    "\n",
    "df_for_classification_feature.head()\n",
    "\n",
    "df_for_classification_feature.to_csv('texts.csv', index=False)\n",
    "\n",
    "\n",
    "\n",
    "df = pd.read_csv('texts.csv')\n",
    "\n",
    "df.url.nunique()"
   ]
  }
 ],
 "metadata": {
  "kernelspec": {
   "display_name": "Python 3",
   "language": "python",
   "name": "python3"
  },
  "language_info": {
   "codemirror_mode": {
    "name": "ipython",
    "version": 3
   },
   "file_extension": ".py",
   "mimetype": "text/x-python",
   "name": "python",
   "nbconvert_exporter": "python",
   "pygments_lexer": "ipython3",
   "version": "3.7.4"
  }
 },
 "nbformat": 4,
 "nbformat_minor": 2
}
