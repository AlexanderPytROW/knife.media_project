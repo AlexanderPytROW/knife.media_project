{
 "cells": [
  {
   "cell_type": "code",
   "execution_count": 23,
   "metadata": {},
   "outputs": [],
   "source": [
    "import pandas as pd\n",
    "\n",
    "from urllib.request import urlopen\n",
    "from bs4 import BeautifulSoup\n",
    "import re\n",
    "\n",
    "from pymorphy2 import MorphAnalyzer\n",
    "from pymystem3 import Mystem\n",
    "from nltk.corpus import stopwords"
   ]
  },
  {
   "cell_type": "code",
   "execution_count": 24,
   "metadata": {},
   "outputs": [],
   "source": [
    "stopwords_list = stopwords.words('russian')\n",
    "listToAdd = ['который', 'весь', 'это', 'ваш', 'такой', 'свой', 'наш', 'самый', 'никто', 'однако', 'наверное', 'вскоре', 'сей']\n",
    "stopwords_list.extend(listToAdd)\n",
    "stopwords = set(stopwords_list)"
   ]
  },
  {
   "cell_type": "code",
   "execution_count": 25,
   "metadata": {},
   "outputs": [],
   "source": [
    "morph_1 = Mystem()\n",
    "def lemmatize_Mystem(text):\n",
    "    tokens = morph_1.lemmatize(text)\n",
    "    tokens = [token for token in tokens if token not in stopwords]\n",
    "    return ''.join(tokens).strip()"
   ]
  },
  {
   "cell_type": "code",
   "execution_count": 4,
   "metadata": {},
   "outputs": [],
   "source": [
    "# функция парсинга текста\n",
    "def text_parser(url):\n",
    "    try:\n",
    "        html = urlopen(url).read().decode('utf-8')\n",
    "        pattern_2 = r'.+\"text\":\"(.+)\"}</script>'\n",
    "        text = re.findall(pattern_2, html)[0].replace(u'\\xa0', ' ')\n",
    "    except:\n",
    "        text = ''\n",
    "    return text"
   ]
  },
  {
   "cell_type": "code",
   "execution_count": 5,
   "metadata": {},
   "outputs": [],
   "source": [
    "def text_cleaner(link):\n",
    "    text = text_parser(link)\n",
    "    text = re.sub(r'[._^%$#!~@,-«»]+', ' ', text)\n",
    "    text = re.sub('[^а-яА-Я ]', '', text)\n",
    "    text = re.sub(r'\\s+', ' ', text)\n",
    "    return text.lower()\n",
    "# на выходе получаем русский текст без знаков препинания в нижнем регистре"
   ]
  },
  {
   "cell_type": "code",
   "execution_count": 6,
   "metadata": {},
   "outputs": [],
   "source": [
    "tags_list = ['находка', 'литература', 'психология', 'наука', 'россия']"
   ]
  },
  {
   "cell_type": "code",
   "execution_count": 7,
   "metadata": {},
   "outputs": [],
   "source": [
    "df = pd.read_csv('1_filtered_df.csv')"
   ]
  },
  {
   "cell_type": "code",
   "execution_count": 8,
   "metadata": {},
   "outputs": [
    {
     "data": {
      "text/html": [
       "<div>\n",
       "<style scoped>\n",
       "    .dataframe tbody tr th:only-of-type {\n",
       "        vertical-align: middle;\n",
       "    }\n",
       "\n",
       "    .dataframe tbody tr th {\n",
       "        vertical-align: top;\n",
       "    }\n",
       "\n",
       "    .dataframe thead th {\n",
       "        text-align: right;\n",
       "    }\n",
       "</style>\n",
       "<table border=\"1\" class=\"dataframe\">\n",
       "  <thead>\n",
       "    <tr style=\"text-align: right;\">\n",
       "      <th></th>\n",
       "      <th>id</th>\n",
       "      <th>time</th>\n",
       "      <th>likes</th>\n",
       "      <th>comments</th>\n",
       "      <th>reposts</th>\n",
       "      <th>views</th>\n",
       "      <th>text</th>\n",
       "      <th>ctr</th>\n",
       "      <th>url</th>\n",
       "      <th>year</th>\n",
       "      <th>month</th>\n",
       "      <th>day</th>\n",
       "      <th>tags</th>\n",
       "    </tr>\n",
       "  </thead>\n",
       "  <tbody>\n",
       "    <tr>\n",
       "      <td>0</td>\n",
       "      <td>320900</td>\n",
       "      <td>1605604268</td>\n",
       "      <td>57</td>\n",
       "      <td>3</td>\n",
       "      <td>3</td>\n",
       "      <td>7159</td>\n",
       "      <td>Мужчина  ухаживает за животными уже 25 лет. Де...</td>\n",
       "      <td>0.80</td>\n",
       "      <td>https://knife.media/raccoon-whisperer/</td>\n",
       "      <td>2020</td>\n",
       "      <td>2020-11</td>\n",
       "      <td>2020-11-17</td>\n",
       "      <td>['животные', 'видео', 'люди', 'находка']</td>\n",
       "    </tr>\n",
       "    <tr>\n",
       "      <td>1</td>\n",
       "      <td>320899</td>\n",
       "      <td>1605604203</td>\n",
       "      <td>33</td>\n",
       "      <td>1</td>\n",
       "      <td>5</td>\n",
       "      <td>7926</td>\n",
       "      <td>Знаете, как добывали подноготную правду, зачем...</td>\n",
       "      <td>0.42</td>\n",
       "      <td>https://knife.media/origin-of-idioms/</td>\n",
       "      <td>2020</td>\n",
       "      <td>2020-11</td>\n",
       "      <td>2020-11-17</td>\n",
       "      <td>['языки', 'история', 'насилие', 'россия']</td>\n",
       "    </tr>\n",
       "    <tr>\n",
       "      <td>2</td>\n",
       "      <td>320894</td>\n",
       "      <td>1605600004</td>\n",
       "      <td>22</td>\n",
       "      <td>0</td>\n",
       "      <td>2</td>\n",
       "      <td>7755</td>\n",
       "      <td>От проектов, помогающих детям-сиротам, до IT-с...</td>\n",
       "      <td>0.28</td>\n",
       "      <td>https://knife.media/edu-projects/</td>\n",
       "      <td>2020</td>\n",
       "      <td>2020-11</td>\n",
       "      <td>2020-11-17</td>\n",
       "      <td>['партнерский материал', 'образование', 'будущ...</td>\n",
       "    </tr>\n",
       "    <tr>\n",
       "      <td>3</td>\n",
       "      <td>320828</td>\n",
       "      <td>1605546303</td>\n",
       "      <td>106</td>\n",
       "      <td>0</td>\n",
       "      <td>13</td>\n",
       "      <td>14448</td>\n",
       "      <td>Сказки братьев Гримм знают и любят и все, хотя...</td>\n",
       "      <td>0.73</td>\n",
       "      <td>https://knife.media/bratya-grimm/</td>\n",
       "      <td>2020</td>\n",
       "      <td>2020-11</td>\n",
       "      <td>2020-11-16</td>\n",
       "      <td>['книги', 'литература', 'люди', 'россия']</td>\n",
       "    </tr>\n",
       "    <tr>\n",
       "      <td>4</td>\n",
       "      <td>320815</td>\n",
       "      <td>1605544203</td>\n",
       "      <td>182</td>\n",
       "      <td>30</td>\n",
       "      <td>22</td>\n",
       "      <td>28388</td>\n",
       "      <td>Раса, пол и гендер для дзен-буддистов — пустот...</td>\n",
       "      <td>0.64</td>\n",
       "      <td>https://knife.media/queer-zen/</td>\n",
       "      <td>2020</td>\n",
       "      <td>2020-11</td>\n",
       "      <td>2020-11-16</td>\n",
       "      <td>['ЛГБТ', 'религия']</td>\n",
       "    </tr>\n",
       "  </tbody>\n",
       "</table>\n",
       "</div>"
      ],
      "text/plain": [
       "       id        time  likes  comments  reposts  views  \\\n",
       "0  320900  1605604268     57         3        3   7159   \n",
       "1  320899  1605604203     33         1        5   7926   \n",
       "2  320894  1605600004     22         0        2   7755   \n",
       "3  320828  1605546303    106         0       13  14448   \n",
       "4  320815  1605544203    182        30       22  28388   \n",
       "\n",
       "                                                text   ctr  \\\n",
       "0  Мужчина  ухаживает за животными уже 25 лет. Де...  0.80   \n",
       "1  Знаете, как добывали подноготную правду, зачем...  0.42   \n",
       "2  От проектов, помогающих детям-сиротам, до IT-с...  0.28   \n",
       "3  Сказки братьев Гримм знают и любят и все, хотя...  0.73   \n",
       "4  Раса, пол и гендер для дзен-буддистов — пустот...  0.64   \n",
       "\n",
       "                                      url  year    month         day  \\\n",
       "0  https://knife.media/raccoon-whisperer/  2020  2020-11  2020-11-17   \n",
       "1   https://knife.media/origin-of-idioms/  2020  2020-11  2020-11-17   \n",
       "2       https://knife.media/edu-projects/  2020  2020-11  2020-11-17   \n",
       "3       https://knife.media/bratya-grimm/  2020  2020-11  2020-11-16   \n",
       "4          https://knife.media/queer-zen/  2020  2020-11  2020-11-16   \n",
       "\n",
       "                                                tags  \n",
       "0           ['животные', 'видео', 'люди', 'находка']  \n",
       "1          ['языки', 'история', 'насилие', 'россия']  \n",
       "2  ['партнерский материал', 'образование', 'будущ...  \n",
       "3          ['книги', 'литература', 'люди', 'россия']  \n",
       "4                                ['ЛГБТ', 'религия']  "
      ]
     },
     "execution_count": 8,
     "metadata": {},
     "output_type": "execute_result"
    }
   ],
   "source": [
    "df.head()"
   ]
  },
  {
   "cell_type": "code",
   "execution_count": 9,
   "metadata": {},
   "outputs": [],
   "source": [
    "from ast import literal_eval\n",
    "df.tags = df.tags.apply(literal_eval)"
   ]
  },
  {
   "cell_type": "code",
   "execution_count": 10,
   "metadata": {},
   "outputs": [],
   "source": [
    "explode_tags = df.explode('tags')"
   ]
  },
  {
   "cell_type": "code",
   "execution_count": 11,
   "metadata": {},
   "outputs": [
    {
     "data": {
      "text/html": [
       "<div>\n",
       "<style scoped>\n",
       "    .dataframe tbody tr th:only-of-type {\n",
       "        vertical-align: middle;\n",
       "    }\n",
       "\n",
       "    .dataframe tbody tr th {\n",
       "        vertical-align: top;\n",
       "    }\n",
       "\n",
       "    .dataframe thead th {\n",
       "        text-align: right;\n",
       "    }\n",
       "</style>\n",
       "<table border=\"1\" class=\"dataframe\">\n",
       "  <thead>\n",
       "    <tr style=\"text-align: right;\">\n",
       "      <th></th>\n",
       "      <th>id</th>\n",
       "      <th>time</th>\n",
       "      <th>likes</th>\n",
       "      <th>comments</th>\n",
       "      <th>reposts</th>\n",
       "      <th>views</th>\n",
       "      <th>text</th>\n",
       "      <th>ctr</th>\n",
       "      <th>url</th>\n",
       "      <th>year</th>\n",
       "      <th>month</th>\n",
       "      <th>day</th>\n",
       "      <th>tags</th>\n",
       "    </tr>\n",
       "  </thead>\n",
       "  <tbody>\n",
       "    <tr>\n",
       "      <td>0</td>\n",
       "      <td>320900</td>\n",
       "      <td>1605604268</td>\n",
       "      <td>57</td>\n",
       "      <td>3</td>\n",
       "      <td>3</td>\n",
       "      <td>7159</td>\n",
       "      <td>Мужчина  ухаживает за животными уже 25 лет. Де...</td>\n",
       "      <td>0.80</td>\n",
       "      <td>https://knife.media/raccoon-whisperer/</td>\n",
       "      <td>2020</td>\n",
       "      <td>2020-11</td>\n",
       "      <td>2020-11-17</td>\n",
       "      <td>находка</td>\n",
       "    </tr>\n",
       "    <tr>\n",
       "      <td>1</td>\n",
       "      <td>320899</td>\n",
       "      <td>1605604203</td>\n",
       "      <td>33</td>\n",
       "      <td>1</td>\n",
       "      <td>5</td>\n",
       "      <td>7926</td>\n",
       "      <td>Знаете, как добывали подноготную правду, зачем...</td>\n",
       "      <td>0.42</td>\n",
       "      <td>https://knife.media/origin-of-idioms/</td>\n",
       "      <td>2020</td>\n",
       "      <td>2020-11</td>\n",
       "      <td>2020-11-17</td>\n",
       "      <td>россия</td>\n",
       "    </tr>\n",
       "    <tr>\n",
       "      <td>2</td>\n",
       "      <td>320894</td>\n",
       "      <td>1605600004</td>\n",
       "      <td>22</td>\n",
       "      <td>0</td>\n",
       "      <td>2</td>\n",
       "      <td>7755</td>\n",
       "      <td>От проектов, помогающих детям-сиротам, до IT-с...</td>\n",
       "      <td>0.28</td>\n",
       "      <td>https://knife.media/edu-projects/</td>\n",
       "      <td>2020</td>\n",
       "      <td>2020-11</td>\n",
       "      <td>2020-11-17</td>\n",
       "      <td>россия</td>\n",
       "    </tr>\n",
       "    <tr>\n",
       "      <td>3</td>\n",
       "      <td>320828</td>\n",
       "      <td>1605546303</td>\n",
       "      <td>106</td>\n",
       "      <td>0</td>\n",
       "      <td>13</td>\n",
       "      <td>14448</td>\n",
       "      <td>Сказки братьев Гримм знают и любят и все, хотя...</td>\n",
       "      <td>0.73</td>\n",
       "      <td>https://knife.media/bratya-grimm/</td>\n",
       "      <td>2020</td>\n",
       "      <td>2020-11</td>\n",
       "      <td>2020-11-16</td>\n",
       "      <td>литература</td>\n",
       "    </tr>\n",
       "    <tr>\n",
       "      <td>3</td>\n",
       "      <td>320828</td>\n",
       "      <td>1605546303</td>\n",
       "      <td>106</td>\n",
       "      <td>0</td>\n",
       "      <td>13</td>\n",
       "      <td>14448</td>\n",
       "      <td>Сказки братьев Гримм знают и любят и все, хотя...</td>\n",
       "      <td>0.73</td>\n",
       "      <td>https://knife.media/bratya-grimm/</td>\n",
       "      <td>2020</td>\n",
       "      <td>2020-11</td>\n",
       "      <td>2020-11-16</td>\n",
       "      <td>россия</td>\n",
       "    </tr>\n",
       "  </tbody>\n",
       "</table>\n",
       "</div>"
      ],
      "text/plain": [
       "       id        time  likes  comments  reposts  views  \\\n",
       "0  320900  1605604268     57         3        3   7159   \n",
       "1  320899  1605604203     33         1        5   7926   \n",
       "2  320894  1605600004     22         0        2   7755   \n",
       "3  320828  1605546303    106         0       13  14448   \n",
       "3  320828  1605546303    106         0       13  14448   \n",
       "\n",
       "                                                text   ctr  \\\n",
       "0  Мужчина  ухаживает за животными уже 25 лет. Де...  0.80   \n",
       "1  Знаете, как добывали подноготную правду, зачем...  0.42   \n",
       "2  От проектов, помогающих детям-сиротам, до IT-с...  0.28   \n",
       "3  Сказки братьев Гримм знают и любят и все, хотя...  0.73   \n",
       "3  Сказки братьев Гримм знают и любят и все, хотя...  0.73   \n",
       "\n",
       "                                      url  year    month         day  \\\n",
       "0  https://knife.media/raccoon-whisperer/  2020  2020-11  2020-11-17   \n",
       "1   https://knife.media/origin-of-idioms/  2020  2020-11  2020-11-17   \n",
       "2       https://knife.media/edu-projects/  2020  2020-11  2020-11-17   \n",
       "3       https://knife.media/bratya-grimm/  2020  2020-11  2020-11-16   \n",
       "3       https://knife.media/bratya-grimm/  2020  2020-11  2020-11-16   \n",
       "\n",
       "         tags  \n",
       "0     находка  \n",
       "1      россия  \n",
       "2      россия  \n",
       "3  литература  \n",
       "3      россия  "
      ]
     },
     "execution_count": 11,
     "metadata": {},
     "output_type": "execute_result"
    }
   ],
   "source": [
    "df_for_classification = explode_tags.query(\"tags in @ tags_list\")\n",
    "df_for_classification.head()"
   ]
  },
  {
   "cell_type": "code",
   "execution_count": 12,
   "metadata": {},
   "outputs": [
    {
     "data": {
      "text/plain": [
       "(5196, 13)"
      ]
     },
     "execution_count": 12,
     "metadata": {},
     "output_type": "execute_result"
    }
   ],
   "source": [
    "df_for_classification.shape"
   ]
  },
  {
   "cell_type": "code",
   "execution_count": 13,
   "metadata": {},
   "outputs": [
    {
     "name": "stdout",
     "output_type": "stream",
     "text": [
      "Количество статей 4379\n"
     ]
    }
   ],
   "source": [
    "print(f'Количество статей {df_for_classification.id.nunique()}')"
   ]
  },
  {
   "cell_type": "code",
   "execution_count": 14,
   "metadata": {},
   "outputs": [
    {
     "data": {
      "text/html": [
       "<div>\n",
       "<style scoped>\n",
       "    .dataframe tbody tr th:only-of-type {\n",
       "        vertical-align: middle;\n",
       "    }\n",
       "\n",
       "    .dataframe tbody tr th {\n",
       "        vertical-align: top;\n",
       "    }\n",
       "\n",
       "    .dataframe thead th {\n",
       "        text-align: right;\n",
       "    }\n",
       "</style>\n",
       "<table border=\"1\" class=\"dataframe\">\n",
       "  <thead>\n",
       "    <tr style=\"text-align: right;\">\n",
       "      <th></th>\n",
       "      <th>id</th>\n",
       "      <th>tags_литература</th>\n",
       "      <th>tags_наука</th>\n",
       "      <th>tags_находка</th>\n",
       "      <th>tags_психология</th>\n",
       "      <th>tags_россия</th>\n",
       "    </tr>\n",
       "  </thead>\n",
       "  <tbody>\n",
       "    <tr>\n",
       "      <td>0</td>\n",
       "      <td>145781</td>\n",
       "      <td>0</td>\n",
       "      <td>0</td>\n",
       "      <td>0</td>\n",
       "      <td>1</td>\n",
       "      <td>0</td>\n",
       "    </tr>\n",
       "    <tr>\n",
       "      <td>1</td>\n",
       "      <td>145784</td>\n",
       "      <td>0</td>\n",
       "      <td>1</td>\n",
       "      <td>0</td>\n",
       "      <td>0</td>\n",
       "      <td>0</td>\n",
       "    </tr>\n",
       "    <tr>\n",
       "      <td>2</td>\n",
       "      <td>145792</td>\n",
       "      <td>0</td>\n",
       "      <td>1</td>\n",
       "      <td>0</td>\n",
       "      <td>0</td>\n",
       "      <td>0</td>\n",
       "    </tr>\n",
       "    <tr>\n",
       "      <td>3</td>\n",
       "      <td>145804</td>\n",
       "      <td>0</td>\n",
       "      <td>1</td>\n",
       "      <td>0</td>\n",
       "      <td>0</td>\n",
       "      <td>0</td>\n",
       "    </tr>\n",
       "    <tr>\n",
       "      <td>4</td>\n",
       "      <td>145835</td>\n",
       "      <td>0</td>\n",
       "      <td>1</td>\n",
       "      <td>0</td>\n",
       "      <td>0</td>\n",
       "      <td>0</td>\n",
       "    </tr>\n",
       "  </tbody>\n",
       "</table>\n",
       "</div>"
      ],
      "text/plain": [
       "       id  tags_литература  tags_наука  tags_находка  tags_психология  \\\n",
       "0  145781                0           0             0                1   \n",
       "1  145784                0           1             0                0   \n",
       "2  145792                0           1             0                0   \n",
       "3  145804                0           1             0                0   \n",
       "4  145835                0           1             0                0   \n",
       "\n",
       "   tags_россия  \n",
       "0            0  \n",
       "1            0  \n",
       "2            0  \n",
       "3            0  \n",
       "4            0  "
      ]
     },
     "execution_count": 14,
     "metadata": {},
     "output_type": "execute_result"
    }
   ],
   "source": [
    "df_for_classification_target = pd.get_dummies(df_for_classification[['id', 'tags']]).groupby('id', as_index=False).sum()\n",
    "df_for_classification_target.head()"
   ]
  },
  {
   "cell_type": "code",
   "execution_count": 15,
   "metadata": {},
   "outputs": [
    {
     "data": {
      "text/plain": [
       "tags_литература     719\n",
       "tags_наука          890\n",
       "tags_находка        501\n",
       "tags_психология     869\n",
       "tags_россия        2217\n",
       "dtype: int64"
      ]
     },
     "execution_count": 15,
     "metadata": {},
     "output_type": "execute_result"
    }
   ],
   "source": [
    "# в скольких статьях встречается каждый тег\n",
    "df_for_classification_target.iloc[::, 1:].sum()"
   ]
  },
  {
   "cell_type": "code",
   "execution_count": 16,
   "metadata": {},
   "outputs": [
    {
     "data": {
      "text/html": [
       "<div>\n",
       "<style scoped>\n",
       "    .dataframe tbody tr th:only-of-type {\n",
       "        vertical-align: middle;\n",
       "    }\n",
       "\n",
       "    .dataframe tbody tr th {\n",
       "        vertical-align: top;\n",
       "    }\n",
       "\n",
       "    .dataframe thead th {\n",
       "        text-align: right;\n",
       "    }\n",
       "</style>\n",
       "<table border=\"1\" class=\"dataframe\">\n",
       "  <thead>\n",
       "    <tr style=\"text-align: right;\">\n",
       "      <th></th>\n",
       "      <th>id</th>\n",
       "      <th>ctr</th>\n",
       "      <th>url</th>\n",
       "    </tr>\n",
       "  </thead>\n",
       "  <tbody>\n",
       "    <tr>\n",
       "      <td>0</td>\n",
       "      <td>320900</td>\n",
       "      <td>0.80</td>\n",
       "      <td>https://knife.media/raccoon-whisperer/</td>\n",
       "    </tr>\n",
       "    <tr>\n",
       "      <td>1</td>\n",
       "      <td>320899</td>\n",
       "      <td>0.42</td>\n",
       "      <td>https://knife.media/origin-of-idioms/</td>\n",
       "    </tr>\n",
       "    <tr>\n",
       "      <td>2</td>\n",
       "      <td>320894</td>\n",
       "      <td>0.28</td>\n",
       "      <td>https://knife.media/edu-projects/</td>\n",
       "    </tr>\n",
       "    <tr>\n",
       "      <td>3</td>\n",
       "      <td>320828</td>\n",
       "      <td>0.73</td>\n",
       "      <td>https://knife.media/bratya-grimm/</td>\n",
       "    </tr>\n",
       "    <tr>\n",
       "      <td>5</td>\n",
       "      <td>320795</td>\n",
       "      <td>0.71</td>\n",
       "      <td>https://knife.media/quantum-brain/</td>\n",
       "    </tr>\n",
       "  </tbody>\n",
       "</table>\n",
       "</div>"
      ],
      "text/plain": [
       "       id   ctr                                     url\n",
       "0  320900  0.80  https://knife.media/raccoon-whisperer/\n",
       "1  320899  0.42   https://knife.media/origin-of-idioms/\n",
       "2  320894  0.28       https://knife.media/edu-projects/\n",
       "3  320828  0.73       https://knife.media/bratya-grimm/\n",
       "5  320795  0.71      https://knife.media/quantum-brain/"
      ]
     },
     "execution_count": 16,
     "metadata": {},
     "output_type": "execute_result"
    }
   ],
   "source": [
    "df_for_classification_feature = df.query(\"id in @df_for_classification_target.id\")[['id', 'ctr', 'url']]\n",
    "df_for_classification_feature.head()"
   ]
  },
  {
   "cell_type": "code",
   "execution_count": 17,
   "metadata": {},
   "outputs": [
    {
     "data": {
      "text/plain": [
       "(4379, 3)"
      ]
     },
     "execution_count": 17,
     "metadata": {},
     "output_type": "execute_result"
    }
   ],
   "source": [
    "df_for_classification_feature.shape"
   ]
  },
  {
   "cell_type": "code",
   "execution_count": 18,
   "metadata": {},
   "outputs": [
    {
     "data": {
      "text/html": [
       "<div>\n",
       "<style scoped>\n",
       "    .dataframe tbody tr th:only-of-type {\n",
       "        vertical-align: middle;\n",
       "    }\n",
       "\n",
       "    .dataframe tbody tr th {\n",
       "        vertical-align: top;\n",
       "    }\n",
       "\n",
       "    .dataframe thead th {\n",
       "        text-align: right;\n",
       "    }\n",
       "</style>\n",
       "<table border=\"1\" class=\"dataframe\">\n",
       "  <thead>\n",
       "    <tr style=\"text-align: right;\">\n",
       "      <th></th>\n",
       "      <th>id</th>\n",
       "      <th>ctr</th>\n",
       "      <th>url</th>\n",
       "      <th>text</th>\n",
       "    </tr>\n",
       "  </thead>\n",
       "  <tbody>\n",
       "    <tr>\n",
       "      <td>0</td>\n",
       "      <td>320900</td>\n",
       "      <td>0.80</td>\n",
       "      <td>https://knife.media/raccoon-whisperer/</td>\n",
       "      <td>наша копилка контента на ютубе пополнилась еще...</td>\n",
       "    </tr>\n",
       "    <tr>\n",
       "      <td>1</td>\n",
       "      <td>320899</td>\n",
       "      <td>0.42</td>\n",
       "      <td>https://knife.media/origin-of-idioms/</td>\n",
       "      <td>одеться шиворот навыворот встать как вкопанно...</td>\n",
       "    </tr>\n",
       "    <tr>\n",
       "      <td>2</td>\n",
       "      <td>320894</td>\n",
       "      <td>0.28</td>\n",
       "      <td>https://knife.media/edu-projects/</td>\n",
       "      <td>государственная система образования всегда кон...</td>\n",
       "    </tr>\n",
       "    <tr>\n",
       "      <td>3</td>\n",
       "      <td>320828</td>\n",
       "      <td>0.73</td>\n",
       "      <td>https://knife.media/bratya-grimm/</td>\n",
       "      <td>якоб и вильгельм гриммы романтики и основополо...</td>\n",
       "    </tr>\n",
       "    <tr>\n",
       "      <td>5</td>\n",
       "      <td>320795</td>\n",
       "      <td>0.71</td>\n",
       "      <td>https://knife.media/quantum-brain/</td>\n",
       "      <td>изучая многочисленные концепции сознания вы ра...</td>\n",
       "    </tr>\n",
       "  </tbody>\n",
       "</table>\n",
       "</div>"
      ],
      "text/plain": [
       "       id   ctr                                     url  \\\n",
       "0  320900  0.80  https://knife.media/raccoon-whisperer/   \n",
       "1  320899  0.42   https://knife.media/origin-of-idioms/   \n",
       "2  320894  0.28       https://knife.media/edu-projects/   \n",
       "3  320828  0.73       https://knife.media/bratya-grimm/   \n",
       "5  320795  0.71      https://knife.media/quantum-brain/   \n",
       "\n",
       "                                                text  \n",
       "0  наша копилка контента на ютубе пополнилась еще...  \n",
       "1   одеться шиворот навыворот встать как вкопанно...  \n",
       "2  государственная система образования всегда кон...  \n",
       "3  якоб и вильгельм гриммы романтики и основополо...  \n",
       "5  изучая многочисленные концепции сознания вы ра...  "
      ]
     },
     "execution_count": 18,
     "metadata": {},
     "output_type": "execute_result"
    }
   ],
   "source": [
    "df_for_classification_feature['text'] = df_for_classification_feature.url.apply(text_cleaner)"
   ]
  },
  {
   "cell_type": "code",
   "execution_count": null,
   "metadata": {},
   "outputs": [],
   "source": [
    "df_for_classification_feature['text_lemm'] = df.text.apply(lemmatize_Mystem)"
   ]
  },
  {
   "cell_type": "code",
   "execution_count": null,
   "metadata": {},
   "outputs": [],
   "source": [
    "df_for_classification = df_for_classification_feature.merge(df_for_classification_target, on='id', how='inner')"
   ]
  },
  {
   "cell_type": "code",
   "execution_count": null,
   "metadata": {},
   "outputs": [],
   "source": [
    "df_for_classification.shape"
   ]
  },
  {
   "cell_type": "code",
   "execution_count": null,
   "metadata": {},
   "outputs": [],
   "source": [
    "df_for_classification.isna().sum()"
   ]
  },
  {
   "cell_type": "code",
   "execution_count": 30,
   "metadata": {},
   "outputs": [],
   "source": [
    "df_for_classification.dropna(inplace=True)"
   ]
  },
  {
   "cell_type": "code",
   "execution_count": null,
   "metadata": {},
   "outputs": [],
   "source": [
    "df_for_classification.shape"
   ]
  },
  {
   "cell_type": "code",
   "execution_count": null,
   "metadata": {},
   "outputs": [],
   "source": [
    "df_for_classification.to_csv('4_for_classification.csv', index=False)"
   ]
  },
  {
   "cell_type": "code",
   "execution_count": null,
   "metadata": {},
   "outputs": [],
   "source": []
  }
 ],
 "metadata": {
  "kernelspec": {
   "display_name": "Python 3",
   "language": "python",
   "name": "python3"
  },
  "language_info": {
   "codemirror_mode": {
    "name": "ipython",
    "version": 3
   },
   "file_extension": ".py",
   "mimetype": "text/x-python",
   "name": "python",
   "nbconvert_exporter": "python",
   "pygments_lexer": "ipython3",
   "version": "3.7.4"
  }
 },
 "nbformat": 4,
 "nbformat_minor": 2
}
